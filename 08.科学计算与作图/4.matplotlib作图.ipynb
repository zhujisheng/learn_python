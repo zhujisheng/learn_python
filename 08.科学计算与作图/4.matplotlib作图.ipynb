{
 "cells": [
  {
   "cell_type": "markdown",
   "metadata": {},
   "source": [
    "[![Open In Colab](https://colab.research.google.com/assets/colab-badge.svg)](https://colab.research.google.com/github/zhujisheng/learn_python/blob/master/08.科学计算与作图/4.matplotlib作图.ipynb)\n",
    "\n",
    "[《Python应用实战》视频课程](https://study.163.com/course/courseMain.htm?courseId=1209533804&share=2&shareId=400000000624093)"
   ]
  },
  {
   "cell_type": "markdown",
   "metadata": {},
   "source": [
    "# matplotlib作图\n",
    "\n",
    "难度：★★☆☆☆"
   ]
  },
  {
   "cell_type": "markdown",
   "metadata": {},
   "source": [
    "[matplotlib参考文档](https://matplotlib.org/api/pyplot_api.html)"
   ]
  },
  {
   "cell_type": "markdown",
   "metadata": {},
   "source": [
    "## 基础作图"
   ]
  },
  {
   "cell_type": "code",
   "execution_count": null,
   "metadata": {},
   "outputs": [],
   "source": [
    "import matplotlib.pyplot as plt\n",
    "%matplotlib inline\n",
    "\n",
    "import numpy as np\n",
    "x = np.linspace(-2,2,1000)\n",
    "y = x**2\n",
    "\n",
    "plt.plot(x, y)\n",
    "plt.show()"
   ]
  },
  {
   "cell_type": "code",
   "execution_count": null,
   "metadata": {},
   "outputs": [],
   "source": [
    "# 坐标刻度\n",
    "\n",
    "plt.xticks([-2, -1, 0, 1, 2])\n",
    "plt.yticks([0, 1, 2, 4])\n",
    "plt.grid(True)\n",
    "\n",
    "plt.plot(x, y)\n",
    "plt.show()"
   ]
  },
  {
   "cell_type": "code",
   "execution_count": null,
   "metadata": {},
   "outputs": [],
   "source": [
    "# 坐标范围\n",
    "\n",
    "plt.axis([-1, 3, -1, 5])\n",
    "\n",
    "plt.plot(x, y)\n",
    "plt.show()"
   ]
  },
  {
   "cell_type": "code",
   "execution_count": null,
   "metadata": {},
   "outputs": [],
   "source": [
    "# 标注\n",
    "\n",
    "plt.title(\"Square Function\")\n",
    "plt.xlabel(\"x\")\n",
    "plt.ylabel(\"y = x**2\")\n",
    "\n",
    "plt.plot(x, y)\n",
    "plt.show()"
   ]
  },
  {
   "cell_type": "code",
   "execution_count": null,
   "metadata": {},
   "outputs": [],
   "source": [
    "# 图释\n",
    "\n",
    "plt.plot(x, x**2, label=\"y=x**2\")\n",
    "plt.plot(x, x**3, label=\"y=x**3\")\n",
    "plt.legend()\n",
    "\n",
    "plt.show()"
   ]
  },
  {
   "cell_type": "markdown",
   "metadata": {},
   "source": [
    "## 多图"
   ]
  },
  {
   "cell_type": "code",
   "execution_count": null,
   "metadata": {},
   "outputs": [],
   "source": [
    "# 多张图\n",
    "plt.figure(1)\n",
    "plt.plot(x, x**2)\n",
    "\n",
    "plt.figure(2)\n",
    "plt.plot(x, x**3)\n",
    "\n",
    "plt.show()"
   ]
  },
  {
   "cell_type": "code",
   "execution_count": null,
   "metadata": {},
   "outputs": [],
   "source": [
    "# subplot\n",
    "\n",
    "ax1 = plt.subplot(2, 2, 1)\n",
    "ax2 = plt.subplot(2, 2, 2)\n",
    "ax3 = plt.subplot(2, 2, 3)\n",
    "ax4 = plt.subplot(2, 2, 4)\n",
    "\n",
    "ax1.plot(x, x)\n",
    "ax2.plot(x, x**2)\n",
    "ax3.plot(x, x**3)\n",
    "ax4.plot(x, x**4)\n",
    "\n",
    "plt.show()"
   ]
  },
  {
   "cell_type": "code",
   "execution_count": null,
   "metadata": {},
   "outputs": [],
   "source": [
    "# subplot\n",
    "\n",
    "ax1 = plt.subplot2grid((3, 3), (0, 0), rowspan=2, colspan=2)\n",
    "ax2 = plt.subplot2grid((3, 3), (0, 2))\n",
    "ax3 = plt.subplot2grid((3, 3), (1, 2), rowspan=2, colspan=1)\n",
    "ax4 = plt.subplot2grid((3, 3), (2, 0), colspan=2)\n",
    "\n",
    "ax1.plot(x, x)\n",
    "ax2.plot(x, x**2)\n",
    "ax3.plot(x, x**3)\n",
    "ax4.plot(x, x**4)\n",
    "\n",
    "plt.show()"
   ]
  },
  {
   "cell_type": "markdown",
   "metadata": {},
   "source": [
    "## 样式与颜色"
   ]
  },
  {
   "cell_type": "markdown",
   "metadata": {},
   "source": [
    "- 一些常见的颜色缩写\n",
    "\n",
    "|缩写字母|颜色|\n",
    "|-------|-------|\n",
    "|'b'|蓝色|\n",
    "|'g'|绿色|\n",
    "|'r'|红色|\n",
    "|'c'|青色|\n",
    "|'m'|紫色|\n",
    "|'y'|黄色|\n",
    "|'k'|黑色|\n",
    "|'w'|白色|\n"
   ]
  },
  {
   "cell_type": "markdown",
   "metadata": {},
   "source": [
    "- 线条样式\n",
    "\n",
    "|缩写字母|描述|\n",
    "|-------|-------|\n",
    "|'-'|实线|\n",
    "|'--'|虚线|\n",
    "|'-.'|点划虚线|\n",
    "|':'|点虚线|\n"
   ]
  },
  {
   "cell_type": "markdown",
   "metadata": {},
   "source": [
    "- 标记点样式\n",
    "\n",
    "|缩写字母|描述|\n",
    "|-------|-------|\n",
    "|'.'|point marker|\n",
    "|','|pixel marker|\n",
    "|'o'|circle marker|\n",
    "|'v'|triangle_down marker|\n",
    "|'^'|triangle_up marker|\n",
    "|'<'|triangle_left marker|\n",
    "|'>'|triangle_right marker|\n",
    "|'1'|tri_down marker|\n",
    "|'2'|tri_up marker|\n",
    "|'3'|tri_left marker|\n",
    "|'4'|tri_right marker|\n",
    "|'s'|square marker|\n",
    "|'p'|pentagon marker|\n",
    "|'\\*'|star marker|\n",
    "|'h'|hexagon1 marker|\n",
    "|'H'|hexagon2 marker|\n",
    "|'+'|plus marker|\n",
    "|'x'|x marker|\n",
    "|'D'|diamond marker|\n",
    "|'d'|thin_diamond marker|\n",
    "|'\\|'|vline marker|\n",
    "|'_'|hline marker|"
   ]
  },
  {
   "cell_type": "code",
   "execution_count": null,
   "metadata": {},
   "outputs": [],
   "source": [
    "x1 = np.linspace(-1.4, 1.4, 30)\n",
    "\n",
    "plt.plot(x1, x1, 'g--')\n",
    "plt.plot(x1, x1**2, 'r:')\n",
    "plt.plot(x1, x1**3, 'b^')\n",
    "plt.show()"
   ]
  },
  {
   "cell_type": "markdown",
   "metadata": {},
   "source": [
    "## 图形类型"
   ]
  },
  {
   "cell_type": "markdown",
   "metadata": {},
   "source": [
    "- Line"
   ]
  },
  {
   "cell_type": "code",
   "execution_count": null,
   "metadata": {},
   "outputs": [],
   "source": [
    "plt.plot(x, x**2)\n",
    "plt.plot(1, 1, \"ro\")\n",
    "plt.show()"
   ]
  },
  {
   "cell_type": "markdown",
   "metadata": {},
   "source": [
    "- Pie Charts"
   ]
  },
  {
   "cell_type": "code",
   "execution_count": null,
   "metadata": {},
   "outputs": [],
   "source": [
    "labels = 'S1', 'S2', 'S3', 'S4'\n",
    "sections = [56, 66, 124, 88]\n",
    "\n",
    "plt.pie(sections, labels=labels, \n",
    "        startangle=30,\n",
    "        autopct = '%1.2f%%')\n",
    "\n",
    "plt.show()"
   ]
  },
  {
   "cell_type": "markdown",
   "metadata": {},
   "source": [
    "- Bar"
   ]
  },
  {
   "cell_type": "code",
   "execution_count": null,
   "metadata": {},
   "outputs": [],
   "source": [
    "x1 = [1, 3, 4, 5, 6, 7, 9]\n",
    "y1 = [4.5, 7, 2.3, 4, 7, 8, 3]\n",
    "\n",
    "plt.bar(x1,y1)\n",
    "plt.show()"
   ]
  },
  {
   "cell_type": "markdown",
   "metadata": {},
   "source": [
    "- Histograms"
   ]
  },
  {
   "cell_type": "code",
   "execution_count": null,
   "metadata": {},
   "outputs": [],
   "source": [
    "n = 5 + np.random.randn(1000)\n",
    "m = [m for m in range(len(n))]\n",
    "\n",
    "plt.figure(1)\n",
    "plt.bar(m, n)\n",
    "plt.title(\"Raw Data\")\n",
    "\n",
    "plt.figure(2)\n",
    "plt.hist(n, bins=20)\n",
    "plt.title(\"Histogram\")\n",
    "\n",
    "plt.figure(3)\n",
    "plt.hist(n, cumulative=True, bins=20)\n",
    "plt.title(\"Cumulative Histogram\")\n",
    "\n",
    "plt.show()"
   ]
  },
  {
   "cell_type": "markdown",
   "metadata": {},
   "source": [
    "- Scatter Plots"
   ]
  },
  {
   "cell_type": "code",
   "execution_count": null,
   "metadata": {},
   "outputs": [],
   "source": [
    "x = np.random.randn(1000)\n",
    "y =x + 5 + np.random.randn(1000)*2\n",
    "\n",
    "plt.scatter(x, y, alpha=0.2)\n",
    "plt.grid(True)\n",
    "plt.show()"
   ]
  },
  {
   "cell_type": "markdown",
   "metadata": {},
   "source": [
    "## 三维图形"
   ]
  },
  {
   "cell_type": "markdown",
   "metadata": {},
   "source": [
    "- 三维散点图"
   ]
  },
  {
   "cell_type": "code",
   "execution_count": null,
   "metadata": {},
   "outputs": [],
   "source": [
    "from mpl_toolkits.mplot3d import axes3d\n",
    "\n",
    "subplot3d = plt.subplot(111, projection = '3d')\n",
    "\n",
    "x = np.arange(10)\n",
    "y = np.arange(10)\n",
    "z = x*x + y*y\n",
    "\n",
    "subplot3d.scatter(x, y, z, c='b', marker='o')\n",
    "\n",
    "subplot3d.set_xlabel('x axis')\n",
    "subplot3d.set_ylabel('y axis')\n",
    "subplot3d.set_zlabel('z axis')\n",
    "plt.show()"
   ]
  },
  {
   "cell_type": "markdown",
   "metadata": {},
   "source": [
    "- 三维柱状图"
   ]
  },
  {
   "cell_type": "code",
   "execution_count": null,
   "metadata": {},
   "outputs": [],
   "source": [
    "from mpl_toolkits.mplot3d import axes3d\n",
    "\n",
    "subplot3d = plt.subplot(111, projection = '3d')\n",
    "\n",
    "x = np.arange(10)\n",
    "y = np.arange(10)\n",
    "z = np.zeros(10)\n",
    "z[5]=100\n",
    "\n",
    "dx = np.full((10), 0.5)\n",
    "dy = np.full((10), 0.5)\n",
    "dz = x*x + y*y\n",
    "\n",
    "subplot3d.bar3d(x, y, z, dx, dy, dz, color='green')\n",
    "\n",
    "subplot3d.set_xlabel('x axis')\n",
    "subplot3d.set_ylabel('y axis')\n",
    "subplot3d.set_zlabel('z axis')\n",
    "plt.show()"
   ]
  },
  {
   "cell_type": "markdown",
   "metadata": {},
   "source": [
    "- 三维曲面"
   ]
  },
  {
   "cell_type": "code",
   "execution_count": null,
   "metadata": {},
   "outputs": [],
   "source": [
    "x = np.linspace(-5, 5, 50)\n",
    "y = np.linspace(-5, 5, 50).reshape((50,1))\n",
    "z = x**2 + y**2\n",
    "\n",
    "subplot3d = plt.subplot(111, projection = '3d')\n",
    "subplot3d.plot_surface(x, y, z)\n",
    "plt.show()"
   ]
  },
  {
   "cell_type": "code",
   "execution_count": null,
   "metadata": {},
   "outputs": [],
   "source": [
    "subplot3d = plt.subplot(111, projection = '3d')\n",
    "subplot3d.plot_wireframe(x, y, z)\n",
    "plt.show()"
   ]
  },
  {
   "cell_type": "code",
   "execution_count": null,
   "metadata": {},
   "outputs": [],
   "source": [
    "from matplotlib import cm\n",
    "subplot3d = plt.subplot(111, projection = '3d')\n",
    "subplot3d.plot_surface(x, y, z, cmap=cm.coolwarm)\n",
    "plt.show()"
   ]
  }
 ],
 "metadata": {
  "kernelspec": {
   "display_name": "Python 3",
   "language": "python",
   "name": "python3"
  },
  "language_info": {
   "codemirror_mode": {
    "name": "ipython",
    "version": 3
   },
   "file_extension": ".py",
   "mimetype": "text/x-python",
   "name": "python",
   "nbconvert_exporter": "python",
   "pygments_lexer": "ipython3",
   "version": "3.7.4"
  }
 },
 "nbformat": 4,
 "nbformat_minor": 4
}
