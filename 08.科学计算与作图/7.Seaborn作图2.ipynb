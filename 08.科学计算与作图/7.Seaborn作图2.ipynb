{
 "cells": [
  {
   "cell_type": "markdown",
   "metadata": {},
   "source": [
    "[![Open In Colab](https://colab.research.google.com/assets/colab-badge.svg)](https://colab.research.google.com/github/zhujisheng/learn_python/blob/master/08.科学计算与作图/7.Seaborn作图2.ipynb)\n",
    "\n",
    "[《Python应用实战》视频课程](https://study.163.com/course/courseMain.htm?courseId=1209533804&share=2&shareId=400000000624093)"
   ]
  },
  {
   "cell_type": "markdown",
   "metadata": {},
   "source": [
    "# Seaborn作图(2)\n",
    "\n",
    "难度：★★★★★"
   ]
  },
  {
   "cell_type": "markdown",
   "metadata": {},
   "source": [
    "## 环境与数据准备"
   ]
  },
  {
   "cell_type": "code",
   "execution_count": null,
   "metadata": {},
   "outputs": [],
   "source": [
    "# 引入必要的库，引入数据\n",
    "%matplotlib inline\n",
    "import numpy as np\n",
    "import pandas as pd\n",
    "import matplotlib.pyplot as plt\n",
    "\n",
    "# 引入seaborn库\n",
    "import seaborn as sns\n",
    "\n",
    "# 设置背景与坐标样式，可用类型包括：white, dark, whitegrid, darkgrid, ticks\n",
    "sns.set(style=\"darkgrid\")\n",
    "\n",
    "# 加载数据\n",
    "tipsdata = sns.load_dataset(\"tips\")\n",
    "\n",
    "########################################\n",
    "# 你也可以从github下载这个数据存放在本地后打开，或者直接打开github上的数据\n",
    "# tipsdata = pd.read_csv(\"c:/tmp/tips.csv\")\n",
    "# tipsdata = pd.read_csv(\"https://raw.githubusercontent.com/zhujisheng/learn_python/master/08.%E7%A7%91%E5%AD%A6%E8%AE%A1%E7%AE%97%E4%B8%8E%E4%BD%9C%E5%9B%BE/programs/tips.csv\")\n",
    "########################################\n",
    "\n",
    "# 引入scipy库中的统计类函数\n",
    "from scipy import stats"
   ]
  },
  {
   "cell_type": "markdown",
   "metadata": {},
   "source": [
    "- 安装statsmodels库\n",
    "\n",
    "  `pip install statsmodels`"
   ]
  },
  {
   "cell_type": "code",
   "execution_count": null,
   "metadata": {},
   "outputs": [],
   "source": [
    "tipsdata"
   ]
  },
  {
   "cell_type": "markdown",
   "metadata": {},
   "source": [
    "## 单随机变量的分布曲线\n",
    "\n",
    "所谓分布曲线，或者也叫分布函数，就是由随机变量在每个取值点上的概率，所组成的曲线"
   ]
  },
  {
   "cell_type": "markdown",
   "metadata": {},
   "source": [
    "- 单变量分布\n",
    "\n",
    "  - Histograms\n",
    "  - Kernel density estimation（KDE)\n",
    "  - Fitting parametric distributions"
   ]
  },
  {
   "cell_type": "code",
   "execution_count": null,
   "metadata": {},
   "outputs": [],
   "source": [
    "# 获得小费数据的histograms和KDE分布曲线\n",
    "sns.distplot(tipsdata.tip);"
   ]
  },
  {
   "cell_type": "code",
   "execution_count": null,
   "metadata": {},
   "outputs": [],
   "source": [
    "# 隐藏KDE分布曲线，histogram分布中格子数量设置为10\n",
    "sns.distplot(tipsdata.tip, kde=False, bins=10, norm_hist=True);"
   ]
  },
  {
   "cell_type": "code",
   "execution_count": null,
   "metadata": {},
   "outputs": [],
   "source": [
    "# 使用kdeplot画KDE曲线，调节bw参数可以调节曲线的光滑程度\n",
    "sns.kdeplot(tipsdata.tip)\n",
    "sns.kdeplot(tipsdata.tip, bw=0.2, label='tip bw=0.2');"
   ]
  },
  {
   "cell_type": "code",
   "execution_count": null,
   "metadata": {},
   "outputs": [],
   "source": [
    "# 假设tip满足正态分布，画出对应的正态分布曲线\n",
    "sns.distplot(tipsdata.tip, kde=False, fit=stats.norm);"
   ]
  },
  {
   "cell_type": "code",
   "execution_count": null,
   "metadata": {},
   "outputs": [],
   "source": [
    "# 假设tip满足gamma分布，画出对应的gamma分布曲线\n",
    "sns.distplot(tipsdata.tip, kde=False, fit=stats.gamma);"
   ]
  },
  {
   "cell_type": "markdown",
   "metadata": {},
   "source": [
    "# 双随机变量的分布曲线"
   ]
  },
  {
   "cell_type": "code",
   "execution_count": null,
   "metadata": {},
   "outputs": [],
   "source": [
    "sns.jointplot(x=\"total_bill\", y=\"tip\", data=tipsdata);"
   ]
  },
  {
   "cell_type": "code",
   "execution_count": null,
   "metadata": {},
   "outputs": [],
   "source": [
    "sns.jointplot(x=\"total_bill\", y=\"tip\", kind=\"hex\", data=tipsdata);"
   ]
  },
  {
   "cell_type": "code",
   "execution_count": null,
   "metadata": {},
   "outputs": [],
   "source": [
    "sns.jointplot(x=\"total_bill\", y=\"tip\", kind=\"kde\", data=tipsdata);"
   ]
  },
  {
   "cell_type": "code",
   "execution_count": null,
   "metadata": {},
   "outputs": [],
   "source": [
    "# 多变量之间两两作图\n",
    "sns.pairplot(tipsdata);"
   ]
  },
  {
   "cell_type": "markdown",
   "metadata": {},
   "source": [
    "## 线性回归\n",
    "\n",
    "回归：确定应变量随自变量（可能多个）变化的函数\n",
    "\n",
    "线性回归：假设应变量与自变量之间是线性关系，确定具体线性方程的参数"
   ]
  },
  {
   "cell_type": "code",
   "execution_count": null,
   "metadata": {},
   "outputs": [],
   "source": [
    "# 一元线性回归\n",
    "sns.lmplot(x=\"total_bill\", y=\"tip\", data=tipsdata);"
   ]
  },
  {
   "cell_type": "code",
   "execution_count": null,
   "metadata": {},
   "outputs": [],
   "source": [
    "# 使用颜色区分smoker，回归成两条直线\n",
    "sns.lmplot(x=\"total_bill\", y=\"tip\", hue=\"smoker\", data=tipsdata);"
   ]
  },
  {
   "cell_type": "code",
   "execution_count": null,
   "metadata": {},
   "outputs": [],
   "source": [
    "# 一元线性回归：排除明显的异常点\n",
    "sns.lmplot(x=\"total_bill\", y=\"tip\", robust=True, data=tipsdata);"
   ]
  },
  {
   "cell_type": "markdown",
   "metadata": {},
   "source": [
    "## 非线性回归\n",
    "\n",
    "非线性回归：回归方程不是简单的线性方程"
   ]
  },
  {
   "cell_type": "code",
   "execution_count": null,
   "metadata": {},
   "outputs": [],
   "source": [
    "# 使用三次方程进行回归\n",
    "sns.lmplot(x=\"total_bill\", y=\"tip\", order=3, data=tipsdata);"
   ]
  },
  {
   "cell_type": "code",
   "execution_count": null,
   "metadata": {},
   "outputs": [],
   "source": [
    "# LOWESS (locally weighted scatterplot smoothing)回归\n",
    "sns.lmplot(x=\"total_bill\", y=\"tip\", lowess=True, data=tipsdata);"
   ]
  },
  {
   "cell_type": "markdown",
   "metadata": {},
   "source": [
    "## 未讲解到的内容\n",
    "\n",
    "- heatmap\n",
    "\n",
    "  ![heatmap](images/heatmap.png)\n",
    "\n",
    "- clustermap\n",
    "  ![clustermap](images/clustermap.png)\n",
    "  \n",
    "- 自定义风格与风格控制\n",
    "- 调色板\n",
    "- 绘制关联的多张图\n",
    "- 各种函数的参数细节"
   ]
  },
  {
   "cell_type": "markdown",
   "metadata": {},
   "source": [
    "[Seaborn官方网站](https://seaborn.pydata.org/index.html)"
   ]
  }
 ],
 "metadata": {
  "kernelspec": {
   "display_name": "Python 3",
   "language": "python",
   "name": "python3"
  },
  "language_info": {
   "codemirror_mode": {
    "name": "ipython",
    "version": 3
   },
   "file_extension": ".py",
   "mimetype": "text/x-python",
   "name": "python",
   "nbconvert_exporter": "python",
   "pygments_lexer": "ipython3",
   "version": "3.7.4"
  }
 },
 "nbformat": 4,
 "nbformat_minor": 4
}
