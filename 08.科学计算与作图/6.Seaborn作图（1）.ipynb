{
 "cells": [
  {
   "cell_type": "markdown",
   "metadata": {},
   "source": [
    "[![Open In Colab](https://colab.research.google.com/assets/colab-badge.svg)](https://colab.research.google.com/github/zhujisheng/learn_python/blob/master/08.科学计算与作图/6.Seaborn作图（1）.ipynb)\n",
    "\n",
    "[《Python应用实战》视频课程](https://study.163.com/course/courseMain.htm?courseId=1209533804&share=2&shareId=400000000624093)"
   ]
  },
  {
   "cell_type": "markdown",
   "metadata": {},
   "source": [
    "# Seaborn作图(1)\n",
    "\n",
    "难度：★★★★☆"
   ]
  },
  {
   "cell_type": "markdown",
   "metadata": {},
   "source": [
    "# 基础概念"
   ]
  },
  {
   "cell_type": "markdown",
   "metadata": {},
   "source": [
    "- 安装\n",
    "\n",
    "  `pip install seaborn`"
   ]
  },
  {
   "cell_type": "markdown",
   "metadata": {},
   "source": [
    "- 理念\n",
    "\n",
    "  *If matplotlib “tries to make easy things easy and hard things possible”, seaborn tries to make a well-defined set of hard things easy too.*\n",
    "\n",
    "  *如果matplotlib的目标是让简单任务能简单完成，让困难任务可以完成；那么，seaborn的目标，是让某些良好定义的困难任务能简单完成。*"
   ]
  },
  {
   "cell_type": "markdown",
   "metadata": {},
   "source": [
    "## 环境与数据准备"
   ]
  },
  {
   "cell_type": "code",
   "execution_count": null,
   "metadata": {},
   "outputs": [],
   "source": [
    "%matplotlib inline\n",
    "import numpy as np\n",
    "import pandas as pd\n",
    "import matplotlib.pyplot as plt\n",
    "\n",
    "# 引入seaborn库\n",
    "import seaborn as sns\n",
    "\n",
    "# 设置背景与坐标样式，可用类型包括：white, dark, whitegrid, darkgrid, ticks\n",
    "sns.set(style=\"darkgrid\")"
   ]
  },
  {
   "cell_type": "code",
   "execution_count": null,
   "metadata": {},
   "outputs": [],
   "source": [
    "# 加载数据\n",
    "tipsdata = sns.load_dataset(\"tips\")\n",
    "\n",
    "########################################\n",
    "# 你也可以直接从数据的URL打开这个数据：\n",
    "# tipsdata = pd.read_csv(\"https://raw.githubusercontent.com/zhujisheng/learn_python/master/08.%E7%A7%91%E5%AD%A6%E8%AE%A1%E7%AE%97%E4%B8%8E%E4%BD%9C%E5%9B%BE/programs/tips.csv\")\n",
    "#\n",
    "# 你也可以将数据下载到本地后打开：\n",
    "# tipsdata = pd.read_csv(\"c:/tmp/tips.csv\")\n",
    "########################################\n",
    "\n",
    "tipsdata"
   ]
  },
  {
   "cell_type": "markdown",
   "metadata": {},
   "source": [
    "*在实践中，数据分析的过程，一般会经历“感觉-猜想-量化-验证”这几个环节；并且“感觉-猜想-量化-验证”环节是不断重复迭代，螺旋上升的。*"
   ]
  },
  {
   "cell_type": "markdown",
   "metadata": {},
   "source": [
    "## relplot函数\n",
    "\n",
    "画变量之间的关系图"
   ]
  },
  {
   "cell_type": "code",
   "execution_count": null,
   "metadata": {},
   "outputs": [],
   "source": [
    "# 作tip-total_bill的散点图\n",
    "sns.relplot(x=\"total_bill\", y=\"tip\", data=tipsdata)\n",
    "plt.show()"
   ]
  },
  {
   "cell_type": "code",
   "execution_count": null,
   "metadata": {},
   "outputs": [],
   "source": [
    "# 使用颜色区分中午餐和晚餐\n",
    "sns.relplot(x=\"total_bill\", y=\"tip\", hue=\"time\", data=tipsdata)\n",
    "plt.show()"
   ]
  },
  {
   "cell_type": "code",
   "execution_count": null,
   "metadata": {},
   "outputs": [],
   "source": [
    "# 使用颜色区分中午餐和晚餐，使用样式区分是否吸烟\n",
    "sns.relplot(x=\"total_bill\", y=\"tip\", style=\"smoker\", data=tipsdata)\n",
    "plt.show()"
   ]
  },
  {
   "cell_type": "code",
   "execution_count": null,
   "metadata": {},
   "outputs": [],
   "source": [
    "# 使用颜色区分中午餐和晚餐，使用点的大小区分用餐者数量\n",
    "sns.relplot(x=\"total_bill\", y=\"tip\", size=\"size\", data=tipsdata)\n",
    "plt.show()"
   ]
  },
  {
   "cell_type": "code",
   "execution_count": null,
   "metadata": {},
   "outputs": [],
   "source": [
    "# 可以将前面三者的组合在一张图上画出\n",
    "sns.relplot(x=\"total_bill\", y=\"tip\", hue=\"time\", style=\"smoker\", size=\"size\", data=tipsdata)\n",
    "plt.show()"
   ]
  },
  {
   "cell_type": "code",
   "execution_count": null,
   "metadata": {},
   "outputs": [],
   "source": [
    "# 区分中餐和晚餐，画两张图\n",
    "sns.relplot(x=\"total_bill\", y=\"tip\", size=\"size\", col=\"size\", data=tipsdata)\n",
    "plt.show()"
   ]
  },
  {
   "cell_type": "markdown",
   "metadata": {},
   "source": [
    "## catplot函数\n",
    "\n",
    "根据离散变量的不同值，画出其它变量的分布"
   ]
  },
  {
   "cell_type": "code",
   "execution_count": null,
   "metadata": {},
   "outputs": [],
   "source": [
    "# 画出不同日期（星期几）的账单金额\n",
    "sns.catplot(x=\"day\", y=\"total_bill\", data=tipsdata);"
   ]
  },
  {
   "cell_type": "code",
   "execution_count": null,
   "metadata": {},
   "outputs": [],
   "source": [
    "# 付费者性别使用颜色进行分类\n",
    "sns.catplot(x=\"day\", y=\"total_bill\", hue=\"sex\", data=tipsdata);"
   ]
  },
  {
   "cell_type": "code",
   "execution_count": null,
   "metadata": {},
   "outputs": [],
   "source": [
    "# 画出不同用餐人数的账单金额\n",
    "sns.catplot(x=\"size\", y=\"total_bill\", kind=\"swarm\", data=tipsdata);"
   ]
  },
  {
   "cell_type": "code",
   "execution_count": null,
   "metadata": {},
   "outputs": [],
   "source": [
    "# 画出不同用餐人数的账单金额（小于5人）\n",
    "sns.catplot(x=\"size\", y=\"total_bill\", kind=\"swarm\", data=tipsdata.query(\"size<3\"));"
   ]
  },
  {
   "cell_type": "markdown",
   "metadata": {},
   "source": [
    "- Boxplots\n",
    "![Boxplots](images/boxplot.JPG)"
   ]
  },
  {
   "cell_type": "code",
   "execution_count": null,
   "metadata": {},
   "outputs": [],
   "source": [
    "sns.catplot(x=\"day\", y=\"total_bill\", kind=\"box\", data=tipsdata);"
   ]
  },
  {
   "cell_type": "code",
   "execution_count": null,
   "metadata": {},
   "outputs": [],
   "source": [
    "sns.catplot(x=\"day\", y=\"total_bill\", hue=\"smoker\", kind=\"box\", data=tipsdata);"
   ]
  },
  {
   "cell_type": "markdown",
   "metadata": {},
   "source": [
    "- violinplot"
   ]
  },
  {
   "cell_type": "code",
   "execution_count": null,
   "metadata": {},
   "outputs": [],
   "source": [
    "sns.catplot(x=\"day\", y=\"total_bill\", kind=\"violin\", data=tipsdata);"
   ]
  },
  {
   "cell_type": "code",
   "execution_count": null,
   "metadata": {},
   "outputs": [],
   "source": [
    "sns.catplot(x=\"day\", y=\"total_bill\", hue=\"smoker\", split=True, kind=\"violin\", data=tipsdata);"
   ]
  }
 ],
 "metadata": {
  "kernelspec": {
   "display_name": "Python 3",
   "language": "python",
   "name": "python3"
  },
  "language_info": {
   "codemirror_mode": {
    "name": "ipython",
    "version": 3
   },
   "file_extension": ".py",
   "mimetype": "text/x-python",
   "name": "python",
   "nbconvert_exporter": "python",
   "pygments_lexer": "ipython3",
   "version": "3.7.4"
  }
 },
 "nbformat": 4,
 "nbformat_minor": 4
}
