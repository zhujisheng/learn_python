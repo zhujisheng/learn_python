{
 "cells": [
  {
   "cell_type": "markdown",
   "metadata": {},
   "source": [
    "[![Open In Colab](https://colab.research.google.com/assets/colab-badge.svg)](https://colab.research.google.com/github/zhujisheng/learn_python/blob/master/08.科学计算与作图/1.基础环境准备.ipynb)\n",
    "\n",
    "[《Python应用实战》视频课程](https://study.163.com/course/courseMain.htm?courseId=1209533804&share=2&shareId=400000000624093)"
   ]
  },
  {
   "cell_type": "markdown",
   "metadata": {},
   "source": [
    "# 基础环境准备\n",
    "\n",
    "难度：★★☆☆☆"
   ]
  },
  {
   "cell_type": "markdown",
   "metadata": {},
   "source": [
    "## 测试代码"
   ]
  },
  {
   "cell_type": "code",
   "execution_count": null,
   "metadata": {},
   "outputs": [],
   "source": [
    "%matplotlib inline\n",
    "import matplotlib.pyplot as plt\n",
    "import numpy as np\n",
    "\n",
    "plots = np.array([1, 2, 4, 9, 5, 3])\n",
    "\n",
    "# 使用Python中的数组，也同样可以作图\n",
    "# plots = [1, 2, 4, 9, 5, 3]\n",
    "\n",
    "plt.plot(plots)\n",
    "\n",
    "plt.show()"
   ]
  },
  {
   "cell_type": "markdown",
   "metadata": {},
   "source": [
    "## 本地运行\n",
    "\n",
    "- 科学计算库-numpy\n",
    "\n",
    "  `pip install numpy`\n",
    "\n",
    "- 作图\n",
    "\n",
    "  `pip install matplotlib`\n",
    "\n",
    "- Jupyter Lab\n",
    "\n",
    "  `pip install jupyterlab`\n",
    "  \n",
    "  《[Jupyter Lab的完整安装教程](../00.Python编程环境/4.浏览器中的Python——Jupyter.md)》\n",
    "  \n",
    "- 将文档保存在本地，在浏览器中使用Jupyter打开"
   ]
  },
  {
   "cell_type": "markdown",
   "metadata": {},
   "source": [
    "## 云端运行\n",
    "\n",
    "*要访问colab，你需要先科学上网*\n",
    "\n",
    "[colab插件](https://chrome.google.com/webstore/detail/open-in-colab/iogfkhleblhcpcekbiedikdehleodpjo)\n",
    "\n",
    "[https://colab.research.google.com/github/zhujisheng/learn_python/blob/master/08.科学计算与作图/1.基础环境准备.ipynb](https://colab.research.google.com/github/zhujisheng/learn_python/blob/master/08.科学计算与作图/1.基础环境准备.ipynb)\n"
   ]
  },
  {
   "cell_type": "markdown",
   "metadata": {},
   "source": [
    "## numpy中的数组\n",
    "\n",
    "- 效率高\n",
    "- 使用方便"
   ]
  },
  {
   "cell_type": "code",
   "execution_count": null,
   "metadata": {},
   "outputs": [],
   "source": [
    "# 使用python中的数组\n",
    "import time\n",
    "import math\n",
    "num = 9999999\n",
    "x = [i for i in range(num)]\n",
    "\n",
    "t_start = time.time()\n",
    "y = [math.sin(p ** 3)  for p in x]\n",
    "t_stop = time.time()\n",
    "\n",
    "print(\"time spend: \", t_stop-t_start)"
   ]
  },
  {
   "cell_type": "code",
   "execution_count": null,
   "metadata": {},
   "outputs": [],
   "source": [
    "# 使用numpy\n",
    "import time\n",
    "import numpy as np\n",
    "num = 9999999\n",
    "x = np.linspace(1, num, num)\n",
    "\n",
    "t_start = time.time()\n",
    "y = np.sin(x ** 3)\n",
    "t_stop = time.time()\n",
    "\n",
    "print(\"time spend: \", t_stop-t_start)"
   ]
  },
  {
   "cell_type": "markdown",
   "metadata": {},
   "source": [
    "## 概念词汇\n",
    "\n",
    "- `numpy`\n",
    "\n",
    "  Python中用于科学计算的库\n",
    "\n",
    "- `matplotlib`\n",
    "\n",
    "  Python中用于数据作图的库\n",
    "\n",
    "- `Colab`\n",
    "\n",
    "  一个运行Jupyter Notebook Python代码的云服务\n",
    "\n",
    "- `array`\n",
    "\n",
    "  数组\n"
   ]
  }
 ],
 "metadata": {
  "kernelspec": {
   "display_name": "Python 3",
   "language": "python",
   "name": "python3"
  },
  "language_info": {
   "codemirror_mode": {
    "name": "ipython",
    "version": 3
   },
   "file_extension": ".py",
   "mimetype": "text/x-python",
   "name": "python",
   "nbconvert_exporter": "python",
   "pygments_lexer": "ipython3",
   "version": "3.7.4"
  }
 },
 "nbformat": 4,
 "nbformat_minor": 4
}
