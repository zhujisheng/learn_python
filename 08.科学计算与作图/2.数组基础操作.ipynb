{
 "cells": [
  {
   "cell_type": "markdown",
   "metadata": {},
   "source": [
    "[![Open In Colab](https://colab.research.google.com/assets/colab-badge.svg)](https://colab.research.google.com/github/zhujisheng/learn_python/blob/master/08.科学计算与作图/1.基础环境准备.ipynb)\n",
    "\n",
    "[《Python应用实战》视频课程](https://study.163.com/course/courseMain.htm?courseId=1209533804&share=2&shareId=400000000624093)"
   ]
  },
  {
   "cell_type": "markdown",
   "metadata": {},
   "source": [
    "# 数组基础操作\n",
    "\n",
    "难度：★★★☆☆"
   ]
  },
  {
   "cell_type": "markdown",
   "metadata": {},
   "source": [
    "## 多维数组"
   ]
  },
  {
   "cell_type": "markdown",
   "metadata": {},
   "source": [
    "- 一维数组\n",
    "\n",
    "  $\\left[\\begin{matrix}1 & 2 & 3 & 4 & 5\\end{matrix}\\right]$\n"
   ]
  },
  {
   "cell_type": "code",
   "execution_count": null,
   "metadata": {},
   "outputs": [],
   "source": [
    "import numpy as np\n",
    "a = np.array([1,2,3,4,5])\n",
    "a"
   ]
  },
  {
   "cell_type": "markdown",
   "metadata": {},
   "source": [
    "- 二维数组（矩阵）\n",
    "\n",
    "  $\\left[\\begin{matrix}1 & 2 & 3 & 4 & 5 \\cr 6 & 7 & 8 & 9 & 10 \\cr 11 & 12 & 13 & 14 & 15 \\cr 16 & 17 & 18 & 19 & 20 \\end{matrix}\\right]$"
   ]
  },
  {
   "cell_type": "code",
   "execution_count": null,
   "metadata": {},
   "outputs": [],
   "source": [
    "a=np.array([[1,2,3,4,5],\n",
    "            [6,7,8,9,10],\n",
    "            [11,12,13,14,15],\n",
    "            [16,17,18,19,20],\n",
    "           ])\n",
    "a"
   ]
  },
  {
   "cell_type": "markdown",
   "metadata": {},
   "source": [
    "- 三维数组\n",
    "\n",
    "![三维数组](images/3darray.JPG)"
   ]
  },
  {
   "cell_type": "code",
   "execution_count": null,
   "metadata": {},
   "outputs": [],
   "source": [
    "a=np.array([[[1,2,3,4,5],\n",
    "             [6,7,8,9,10],\n",
    "             [11,12,13,14,15],\n",
    "             [16,17,18,19,20]],\n",
    "            [[21,22,23,24,25],\n",
    "             [26,27,28,29,30],\n",
    "             [31,32,33,34,35],\n",
    "             [36,37,38,39,40]],\n",
    "            [[41,42,43,44,45],\n",
    "             [46,47,48,49,50],\n",
    "             [51,52,53,54,55],\n",
    "             [56,57,58,59,60]]\n",
    "           ])\n",
    "a"
   ]
  },
  {
   "cell_type": "markdown",
   "metadata": {},
   "source": [
    "- 以数字为元素，构成的数组，是一维数组\n",
    "\n",
    "  以一维数组为元素，构成的数组，是二维数组\n",
    "\n",
    "  以二维数组为元素，构成的数组，是三维数组\n",
    "  \n",
    "  以三维数组为元素，构成的数组，是四维数组\n",
    "\n",
    "  ……\n",
    "  \n",
    "  数组的维数：构成数组的层次深度"
   ]
  },
  {
   "cell_type": "code",
   "execution_count": null,
   "metadata": {},
   "outputs": [],
   "source": [
    "a.ndim"
   ]
  },
  {
   "cell_type": "markdown",
   "metadata": {},
   "source": [
    "- 构成数组的元素数量，称为数组的长度；n维数组有n个长度\n",
    "\n",
    "  比如，上面的三维数组，在第一个维度上的长度是3，在第二个维度上的长度是4，在第三个维度上的长度是5"
   ]
  },
  {
   "cell_type": "code",
   "execution_count": null,
   "metadata": {},
   "outputs": [],
   "source": [
    "print(len(a))\n",
    "print(len(a[0]))\n",
    "print(len(a[0][0]))"
   ]
  },
  {
   "cell_type": "markdown",
   "metadata": {},
   "source": [
    "- 长度的组合，称为数组的形状（shape）\n",
    "\n",
    "  比如，上面的三维数组的形状是（3，4，5）"
   ]
  },
  {
   "cell_type": "code",
   "execution_count": null,
   "metadata": {},
   "outputs": [],
   "source": [
    "a.shape"
   ]
  },
  {
   "cell_type": "markdown",
   "metadata": {},
   "source": [
    "- 数组中包含数字的数量称为数组的大小（size）；数组的大小等于各维度上长度的乘积\n",
    "\n",
    "  比如，上面的三维数组的大小是3x4x5=60"
   ]
  },
  {
   "cell_type": "code",
   "execution_count": null,
   "metadata": {},
   "outputs": [],
   "source": [
    "a.size"
   ]
  },
  {
   "cell_type": "markdown",
   "metadata": {},
   "source": [
    "- 数组中的数据可以用各维度上的坐标值（index）来访问（index从零开始）\n",
    "\n",
    "  比如，`a[1,2,0]`，表示数组a中的一个数字，这个数组处在第一维度上的第二，第二维度上的第三，第三维度上的第一"
   ]
  },
  {
   "cell_type": "code",
   "execution_count": null,
   "metadata": {},
   "outputs": [],
   "source": [
    "a[1,2,0]"
   ]
  },
  {
   "cell_type": "markdown",
   "metadata": {},
   "source": [
    "## 生成数组"
   ]
  },
  {
   "cell_type": "markdown",
   "metadata": {},
   "source": [
    "- `np.zeros`\n",
    "\n",
    "  输入是数组的形状，输出是该形状的全零数组"
   ]
  },
  {
   "cell_type": "code",
   "execution_count": null,
   "metadata": {},
   "outputs": [],
   "source": [
    "np.zeros((2,3))"
   ]
  },
  {
   "cell_type": "markdown",
   "metadata": {},
   "source": [
    "- `np.ones`\n",
    "\n",
    "  输入是数组的形状，输出是该形状的全1数组"
   ]
  },
  {
   "cell_type": "code",
   "execution_count": null,
   "metadata": {},
   "outputs": [],
   "source": [
    "np.ones((2,3,4))"
   ]
  },
  {
   "cell_type": "markdown",
   "metadata": {},
   "source": [
    "- `np.full`\n",
    "\n",
    "  输入是数组的形状和某个数字，输出是该形状的数组，其中每个元素为输入的数字"
   ]
  },
  {
   "cell_type": "code",
   "execution_count": null,
   "metadata": {},
   "outputs": [],
   "source": [
    "np.full((3,4), np.pi)"
   ]
  },
  {
   "cell_type": "markdown",
   "metadata": {},
   "source": [
    "- `np.empty`\n",
    "\n",
    "  输入是数组的形状，输出是该形状的数组，其中每个元素的数字随机（内存中原来的值）"
   ]
  },
  {
   "cell_type": "code",
   "execution_count": null,
   "metadata": {},
   "outputs": [],
   "source": [
    "np.empty((4,5))"
   ]
  },
  {
   "cell_type": "markdown",
   "metadata": {},
   "source": [
    "- `np.arange`\n",
    "\n",
    "  构建等差序列构成的一维数组"
   ]
  },
  {
   "cell_type": "code",
   "execution_count": null,
   "metadata": {},
   "outputs": [],
   "source": [
    "np.arange(1,5,0.2)"
   ]
  },
  {
   "cell_type": "markdown",
   "metadata": {},
   "source": [
    "- `np.random.rand`\n",
    "\n",
    "  输入为长度，输出是该长度的数组，其中的数字满足在(0,1)区间上的均匀分布\n",
    "  \n",
    "- `np.random.randn`\n",
    "\n",
    "  输入为长度，输出是该长度的数组，其中的数字满足均值为0，方差为1的正态（高斯）分布\n"
   ]
  },
  {
   "cell_type": "code",
   "execution_count": null,
   "metadata": {},
   "outputs": [],
   "source": [
    "a=np.random.rand(100000)\n",
    "b=np.random.randn(100000)\n",
    "\n",
    "%matplotlib inline\n",
    "import matplotlib.pyplot as plt\n",
    "plt.hist(a, density=True, bins=100, histtype=\"step\", color=\"green\", label=\"rand\")\n",
    "plt.hist(b, density=True, bins=200, histtype=\"step\", color=\"red\", label=\"randn\")\n",
    "plt.axis([-2.5, 2.5, 0, 1.1])\n",
    "plt.legend(loc = \"upper left\")\n",
    "plt.title(\"Random distributions\")\n",
    "plt.xlabel(\"Value\")\n",
    "plt.ylabel(\"Density\")\n",
    "plt.show()"
   ]
  },
  {
   "cell_type": "markdown",
   "metadata": {},
   "source": [
    "## 数组形状变化与切片访问"
   ]
  },
  {
   "cell_type": "markdown",
   "metadata": {},
   "source": [
    "- `reshape`\n",
    "\n",
    "  改变数组的形状"
   ]
  },
  {
   "cell_type": "code",
   "execution_count": null,
   "metadata": {},
   "outputs": [],
   "source": [
    "np.arange(24).reshape(2,3,4)"
   ]
  },
  {
   "cell_type": "markdown",
   "metadata": {},
   "source": [
    "- `ravel`\n",
    "\n",
    "  变成一维数组"
   ]
  },
  {
   "cell_type": "code",
   "execution_count": null,
   "metadata": {},
   "outputs": [],
   "source": [
    "np.arange(24).reshape(2,3,4).ravel()"
   ]
  },
  {
   "cell_type": "markdown",
   "metadata": {},
   "source": [
    "- 切片（slice）"
   ]
  },
  {
   "cell_type": "code",
   "execution_count": null,
   "metadata": {},
   "outputs": [],
   "source": [
    "a=np.arange(24).reshape(4,6)\n",
    "a"
   ]
  },
  {
   "cell_type": "code",
   "execution_count": null,
   "metadata": {},
   "outputs": [],
   "source": [
    "b=a[0:2,1:4]\n",
    "b"
   ]
  },
  {
   "cell_type": "code",
   "execution_count": null,
   "metadata": {},
   "outputs": [],
   "source": [
    "c=a[:,5]\n",
    "c"
   ]
  },
  {
   "cell_type": "markdown",
   "metadata": {},
   "source": [
    "## 视图与副本\n",
    "\n",
    "- 数组的变形与切片，仅是原数组的一个视图，而不是新的副本"
   ]
  },
  {
   "cell_type": "code",
   "execution_count": null,
   "metadata": {},
   "outputs": [],
   "source": [
    "c[0]=9999\n",
    "a"
   ]
  },
  {
   "cell_type": "markdown",
   "metadata": {},
   "source": [
    "- `copy()`\n",
    "\n",
    "  使用copy函数生成新的副本"
   ]
  },
  {
   "cell_type": "code",
   "execution_count": null,
   "metadata": {},
   "outputs": [],
   "source": [
    "c=a[:,5].copy()\n",
    "c[0] = 8888\n",
    "a"
   ]
  },
  {
   "cell_type": "markdown",
   "metadata": {},
   "source": [
    "## 概念词汇\n",
    "\n",
    "- `dimension`\n",
    "\n",
    "  维，次元\n",
    "\n",
    "- `shape`\n",
    "\n",
    "  形状；数组的形状指数组在各个维度上的数据数量\n",
    "\n",
    "- `size`\n",
    "\n",
    "  大小，尺寸；数组的size指数组中包含数据的总数量\n",
    "\n",
    "- `slice`\n",
    "\n",
    "  切片\n",
    "  \n",
    "- `copy`\n",
    "\n",
    "  拷贝，副本\n"
   ]
  }
 ],
 "metadata": {
  "kernelspec": {
   "display_name": "Python 3",
   "language": "python",
   "name": "python3"
  },
  "language_info": {
   "codemirror_mode": {
    "name": "ipython",
    "version": 3
   },
   "file_extension": ".py",
   "mimetype": "text/x-python",
   "name": "python",
   "nbconvert_exporter": "python",
   "pygments_lexer": "ipython3",
   "version": "3.7.4"
  }
 },
 "nbformat": 4,
 "nbformat_minor": 4
}
