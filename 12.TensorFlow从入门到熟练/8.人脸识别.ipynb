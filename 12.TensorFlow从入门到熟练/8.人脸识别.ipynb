{
 "cells": [
  {
   "cell_type": "markdown",
   "metadata": {},
   "source": [
    "[![Open In Colab](https://colab.research.google.com/assets/colab-badge.svg)](https://colab.research.google.com/github/zhujisheng/learn_python/blob/master/12.TensorFlow从入门到熟练/7.人脸识别.ipynb)\n",
    "\n",
    "[《Python应用实战》视频课程](https://study.163.com/course/courseMain.htm?courseId=1209533804&share=2&shareId=400000000624093)"
   ]
  },
  {
   "cell_type": "markdown",
   "metadata": {},
   "source": [
    "# 人脸识别\n",
    "\n",
    "难度：★★★☆☆\n"
   ]
  },
  {
   "cell_type": "markdown",
   "metadata": {},
   "source": [
    "## 神经网络应用的基本过程\n",
    "\n",
    "![process](images/process.JPG)"
   ]
  },
  {
   "cell_type": "markdown",
   "metadata": {},
   "source": [
    "## deepface项目\n",
    "\n",
    "- 安装\n",
    "\n",
    "  `pip install deepface`\n",
    "\n",
    "- 源码\n",
    "\n",
    "  github地址: [https://github.com/serengil/deepface](https://github.com/serengil/deepface)"
   ]
  },
  {
   "cell_type": "markdown",
   "metadata": {},
   "source": [
    "## deepface中的4个人脸识别模型"
   ]
  },
  {
   "cell_type": "code",
   "execution_count": null,
   "metadata": {},
   "outputs": [],
   "source": [
    "from deepface.basemodels import VGGFace, OpenFace, Facenet, FbDeepFace"
   ]
  },
  {
   "cell_type": "code",
   "execution_count": null,
   "metadata": {},
   "outputs": [],
   "source": [
    "model1 = VGGFace.loadModel()\n",
    "model1.summary()"
   ]
  },
  {
   "cell_type": "code",
   "execution_count": null,
   "metadata": {},
   "outputs": [],
   "source": [
    "model2 = OpenFace.loadModel()\n",
    "model2.summary()"
   ]
  },
  {
   "cell_type": "code",
   "execution_count": null,
   "metadata": {},
   "outputs": [],
   "source": [
    "model3 = Facenet.loadModel()\n",
    "model3.summary()"
   ]
  },
  {
   "cell_type": "code",
   "execution_count": null,
   "metadata": {},
   "outputs": [],
   "source": [
    "model4 = FbDeepFace.loadModel()\n",
    "model4.summary()"
   ]
  },
  {
   "cell_type": "markdown",
   "metadata": {},
   "source": [
    "  - 不同模型的层次数量有很大的差异\n",
    "  \n",
    "  - 不同模型的参数数量有很大的差异\n",
    "  \n",
    "  - 模型加载过程源码：[https://github.com/serengil/deepface/tree/master/deepface/basemodels](https://github.com/serengil/deepface/tree/master/deepface/basemodels)\n",
    "  \n",
    "  - 神经网络模型主要由结构定义与参数值两部分构成，它们可以以文件形式存储（存成一个文件，或分开存为两个文件）\n",
    "  \n",
    "    模型存储与加载参考文档：[https://www.tensorflow.org/guide/keras/save_and_serialize](https://www.tensorflow.org/guide/keras/save_and_serialize)\n",
    "  \n",
    "  - 如果模型中参数数量很多，对应文件也会非常大（一亿个参数对应几百兆的大小）\n",
    "  \n",
    "  - 不同模型对输入图片的大小要求是不同的\n",
    "  \n",
    "  - 不同模型的输出都是一个数组，但长度是不同的"
   ]
  },
  {
   "cell_type": "code",
   "execution_count": null,
   "metadata": {},
   "outputs": [],
   "source": [
    "# 不同模型对输入图片的大小要求是不同的\n",
    "print(model1.layers[0].input_shape[1:])\n",
    "print(model2.layers[0].input_shape[1:])\n",
    "print(model3.layers[0].input_shape[1:])\n",
    "print(model4.layers[0].input_shape[1:])"
   ]
  },
  {
   "cell_type": "code",
   "execution_count": null,
   "metadata": {},
   "outputs": [],
   "source": [
    "# 不同模型的输出都是一个数组，但长度是不同的\n",
    "print(model1.layers[-1].output_shape)\n",
    "print(model2.layers[-1].output_shape)\n",
    "print(model3.layers[-1].output_shape)\n",
    "print(model4.layers[-1].output_shape)"
   ]
  },
  {
   "cell_type": "markdown",
   "metadata": {},
   "source": [
    "## 人脸识别"
   ]
  },
  {
   "cell_type": "markdown",
   "metadata": {},
   "source": [
    "- 一些样例图片\n",
    "\n",
    "  ![克林顿](images/clinton1.jpg)\n",
    "  ![克林顿](images/clinton2.jpg)\n",
    "  ![克林顿](images/clinton3.jpg)\n",
    "\n",
    "  ![金正恩](images/zhengen.jpg)\n"
   ]
  },
  {
   "cell_type": "code",
   "execution_count": null,
   "metadata": {},
   "outputs": [],
   "source": [
    "from deepface import DeepFace\n",
    "\n",
    "result1 = DeepFace.verify(\"images/clinton1.jpg\", \"images/clinton2.jpg\", model_name = \"VGGFace\", model = model1)\n",
    "result2 = DeepFace.verify(\"images/clinton2.jpg\", \"images/clinton3.jpg\", model_name = \"VGGFace\", model = model1)\n",
    "result3 = DeepFace.verify(\"images/clinton3.jpg\", \"images/clinton1.jpg\", model_name = \"VGGFace\", model = model1)\n",
    "result4 = DeepFace.verify(\"images/clinton1.jpg\", \"images/zhengen.jpg\", model_name = \"VGGFace\", model = model1)\n",
    "result5 = DeepFace.verify(\"images/clinton2.jpg\", \"images/zhengen.jpg\", model_name = \"VGGFace\", model = model1)\n",
    "result6 = DeepFace.verify(\"images/clinton3.jpg\", \"images/zhengen.jpg\", model_name = \"VGGFace\", model = model1)\n",
    "\n",
    "print(result1)\n",
    "print(result2)\n",
    "print(result3)\n",
    "print(result4)\n",
    "print(result5)\n",
    "print(result6)"
   ]
  },
  {
   "cell_type": "markdown",
   "metadata": {},
   "source": [
    "[verify函数源代码](https://github.com/serengil/deepface/blob/master/deepface/DeepFace.py#L25)"
   ]
  },
  {
   "cell_type": "markdown",
   "metadata": {},
   "source": [
    "## 人脸分析"
   ]
  },
  {
   "cell_type": "code",
   "execution_count": null,
   "metadata": {},
   "outputs": [],
   "source": [
    "import pprint\n",
    "from deepface import DeepFace\n",
    "results = DeepFace.analyze([\"images/clinton1.jpg\",\"images/clinton2.jpg\",\"images/clinton3.jpg\",\"images/zhengen.jpg\"])\n",
    "\n",
    "pprint.pprint(results)"
   ]
  }
 ],
 "metadata": {
  "kernelspec": {
   "display_name": "Python 3",
   "language": "python",
   "name": "python3"
  },
  "language_info": {
   "codemirror_mode": {
    "name": "ipython",
    "version": 3
   },
   "file_extension": ".py",
   "mimetype": "text/x-python",
   "name": "python",
   "nbconvert_exporter": "python",
   "pygments_lexer": "ipython3",
   "version": "3.7.4"
  }
 },
 "nbformat": 4,
 "nbformat_minor": 4
}
