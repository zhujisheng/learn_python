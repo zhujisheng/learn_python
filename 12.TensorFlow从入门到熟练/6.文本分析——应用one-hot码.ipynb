{
 "cells": [
  {
   "cell_type": "markdown",
   "metadata": {},
   "source": [
    "[![Open In Colab](https://colab.research.google.com/assets/colab-badge.svg)](https://colab.research.google.com/github/zhujisheng/learn_python/blob/master/12.TensorFlow从入门到熟练/6.文本分析——应用one-hot码.ipynb)\n",
    "\n",
    "[《Python应用实战》视频课程](https://study.163.com/course/courseMain.htm?courseId=1209533804&share=2&shareId=400000000624093)"
   ]
  },
  {
   "cell_type": "markdown",
   "metadata": {},
   "source": [
    "# 文本分析——应用one-hot码\n",
    "\n",
    "难度：★★★☆☆\n"
   ]
  },
  {
   "cell_type": "markdown",
   "metadata": {},
   "source": [
    "## 加载imdb数据集"
   ]
  },
  {
   "cell_type": "code",
   "execution_count": null,
   "metadata": {},
   "outputs": [],
   "source": [
    "import numpy as np\n",
    "from tensorflow import keras\n",
    "imdb = keras.datasets.imdb\n",
    "\n",
    "(train_sequences, train_labels), (test_sequences, test_labels) = imdb.load_data()"
   ]
  },
  {
   "cell_type": "markdown",
   "metadata": {},
   "source": [
    "## 转化为one-hot编码"
   ]
  },
  {
   "cell_type": "code",
   "execution_count": null,
   "metadata": {},
   "outputs": [],
   "source": [
    "vocab_size = 10000\n",
    "\n",
    "def sequences2onehot(sequences, size):\n",
    "    i=0\n",
    "    ret = np.zeros((sequences.shape[0], size))\n",
    "    for line in sequences:\n",
    "        for iword in line:\n",
    "            if iword < vocab_size:\n",
    "                ret[i][iword] = 1\n",
    "        i = i+1\n",
    "    return ret\n",
    "\n",
    "train_one_hot = sequences2onehot(train_sequences, vocab_size)\n",
    "test_one_hot = sequences2onehot(test_sequences, vocab_size)"
   ]
  },
  {
   "cell_type": "code",
   "execution_count": null,
   "metadata": {},
   "outputs": [],
   "source": [
    "print(train_one_hot.shape)\n",
    "print(test_one_hot.shape)"
   ]
  },
  {
   "cell_type": "markdown",
   "metadata": {},
   "source": [
    "## 构建神经网络"
   ]
  },
  {
   "cell_type": "code",
   "execution_count": null,
   "metadata": {},
   "outputs": [],
   "source": [
    "model = keras.Sequential()\n",
    "model.add(keras.layers.Dense(16, input_shape=(10000,), activation='relu'))\n",
    "model.add(keras.layers.Dense(1, activation='sigmoid'))\n",
    "\n",
    "model.compile(optimizer='adam',\n",
    "              loss='binary_crossentropy',\n",
    "              metrics=['accuracy'])"
   ]
  },
  {
   "cell_type": "markdown",
   "metadata": {},
   "source": [
    "- sigmoid\n",
    "\n",
    "  ![sigmoid](images/sigmoid.png)"
   ]
  },
  {
   "cell_type": "markdown",
   "metadata": {},
   "source": [
    "- binary_crossentropy\n",
    "\n",
    "  + 用于择项问题的损失函数\n",
    "  \n",
    "    判断题：binary_corssentropy\n",
    "    \n",
    "    单选题：categorical_crossentropy\n",
    "    \n",
    "    多选题：分解为多个判断题，分别解决\n",
    "\n",
    "  + 经过sigmoid后的输出，使用binary_corssentropy损失函数——这是一种比较经典的搭配"
   ]
  },
  {
   "cell_type": "code",
   "execution_count": null,
   "metadata": {},
   "outputs": [],
   "source": [
    "model.summary()"
   ]
  },
  {
   "cell_type": "markdown",
   "metadata": {},
   "source": [
    "- 第一层，每个神经元有10000个输入，因此有10000个权重；在加上一个偏移量。所以总的参数有`16 *（10000+1）= 160016`"
   ]
  },
  {
   "cell_type": "markdown",
   "metadata": {},
   "source": [
    "## 训练"
   ]
  },
  {
   "cell_type": "markdown",
   "metadata": {},
   "source": [
    "- 参数：`validation_data`\n",
    "\n",
    "  在训练过程中，每一个epoch都进行一次评估"
   ]
  },
  {
   "cell_type": "code",
   "execution_count": null,
   "metadata": {},
   "outputs": [],
   "source": [
    "model.fit(train_one_hot,\n",
    "          train_labels,\n",
    "          epochs=6,\n",
    "          batch_size=512,\n",
    "          validation_data=(test_one_hot, test_labels))"
   ]
  },
  {
   "cell_type": "markdown",
   "metadata": {},
   "source": [
    "## one-hot编码的一些问题：\n",
    "\n",
    "- one-hot编码过于庞大\n",
    "- one-hot编码丢失了句子中单词的次序信息\n",
    "- one-hot编码没有单词与单词之间的关联信息"
   ]
  }
 ],
 "metadata": {
  "kernelspec": {
   "display_name": "Python 3",
   "language": "python",
   "name": "python3"
  },
  "language_info": {
   "codemirror_mode": {
    "name": "ipython",
    "version": 3
   },
   "file_extension": ".py",
   "mimetype": "text/x-python",
   "name": "python",
   "nbconvert_exporter": "python",
   "pygments_lexer": "ipython3",
   "version": "3.7.4"
  }
 },
 "nbformat": 4,
 "nbformat_minor": 4
}
