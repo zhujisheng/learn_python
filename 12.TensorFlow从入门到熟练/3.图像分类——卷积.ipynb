{
 "cells": [
  {
   "cell_type": "markdown",
   "metadata": {},
   "source": [
    "[![Open In Colab](https://colab.research.google.com/assets/colab-badge.svg)](https://colab.research.google.com/github/zhujisheng/learn_python/blob/master/12.TensorFlow从入门到熟练/3.图像分类——卷积.ipynb)\n",
    "\n",
    "[《Python应用实战》视频课程](https://study.163.com/course/courseMain.htm?courseId=1209533804&share=2&shareId=400000000624093)"
   ]
  },
  {
   "cell_type": "markdown",
   "metadata": {},
   "source": [
    "# 图像分类——卷积\n",
    "\n",
    "难度：★★★★☆"
   ]
  },
  {
   "cell_type": "markdown",
   "metadata": {},
   "source": [
    "## 什么是卷积(Convolution)"
   ]
  },
  {
   "cell_type": "markdown",
   "metadata": {},
   "source": [
    "#### 二维图像上的卷积运算\n",
    "\n",
    "![卷积计算](images/convExample.png)\n",
    "\n",
    "![卷积](images/convSobel.gif)"
   ]
  },
  {
   "cell_type": "code",
   "execution_count": null,
   "metadata": {},
   "outputs": [],
   "source": [
    "# 加载图片\n",
    "import matplotlib.pyplot as plt\n",
    "\n",
    "img = plt.imread(\"https://github.com/zhujisheng/learn_python/raw/master/12.TensorFlow%E4%BB%8E%E5%85%A5%E9%97%A8%E5%88%B0%E7%86%9F%E7%BB%83/images/android.png\")\n",
    "plt.imshow(img, cmap ='gray')\n",
    "plt.axis('off')\n",
    "plt.show()\n",
    "print(img.shape)"
   ]
  },
  {
   "cell_type": "code",
   "execution_count": null,
   "metadata": {},
   "outputs": [],
   "source": [
    "import numpy as np\n",
    "from scipy import signal\n",
    "\n",
    "# h1:突显水平线条\n",
    "h1 = np.array([[-1., -2., -1.],\n",
    "              [0., 0., 0.],\n",
    "              [1., 2., 1.]\n",
    "             ])\n",
    "\n",
    "# h2:突显垂直线条\n",
    "h2 = np.array([[-1., 0., 1.],\n",
    "              [-2., 0., 2.],\n",
    "              [-1., 0., 1.]\n",
    "             ])\n",
    "\n",
    "# h3：突显图案边界，高通滤波\n",
    "h3 = np.array([[-1, -1, -1],\n",
    "              [-1, 9, -1],\n",
    "              [-1, -1, -1],\n",
    "             ])\n",
    "\n",
    "# 计算卷积\n",
    "img1 = signal.convolve(img, h1, mode = \"valid\")\n",
    "img2 = signal.convolve(img, h2, mode = \"valid\")\n",
    "img3 = signal.convolve(img, h3, mode = \"valid\")\n",
    "\n",
    "# 显示图形\n",
    "ax1 = plt.subplot(2, 2, 1)\n",
    "ax2 = plt.subplot(2, 2, 2)\n",
    "ax3 = plt.subplot(2, 2, 3)\n",
    "ax4 = plt.subplot(2, 2, 4)\n",
    "ax1.axis('off')\n",
    "ax2.axis('off')\n",
    "ax3.axis('off')\n",
    "ax4.axis('off')\n",
    "\n",
    "ax1.imshow(img,cmap='gray', )\n",
    "ax2.imshow(img1,cmap='gray')\n",
    "ax3.imshow(img2,cmap='gray')\n",
    "ax4.imshow(img3,cmap='gray')\n",
    "plt.show()\n",
    "\n",
    "# 图形尺寸\n",
    "print(\"image.shape:\", img.shape)\n",
    "print(\"img1.shape:\", img1.shape)\n",
    "print(\"img2.shape:\", img2.shape)\n",
    "print(\"img3.shape:\", img3.shape)"
   ]
  },
  {
   "cell_type": "markdown",
   "metadata": {},
   "source": [
    "## 什么是池化(pooling)\n",
    "\n",
    "![pooling](images/pooling.jpg)\n",
    "\n",
    "![pooling](images/poolfig.gif)\n"
   ]
  },
  {
   "cell_type": "markdown",
   "metadata": {},
   "source": [
    "## 卷积与池化在神经网络中的作用"
   ]
  },
  {
   "cell_type": "markdown",
   "metadata": {},
   "source": [
    "#### 卷积\n",
    "\n",
    "- 原始图像通过与卷积核的数学运算，可以提取出图像的某些指定特征\n",
    "- 不同卷积核，提取的特征是不一样的\n",
    "- 将原始图像进入神经网络时，首先进行各种卷积运算，可以提取图像中的各种特征，使后面的神经网络更有效的处理问题"
   ]
  },
  {
   "cell_type": "markdown",
   "metadata": {},
   "source": [
    "#### 池化\n",
    "\n",
    "- 减小数据的空间大小，从而降低参数数量与整体计算量\n",
    "- 在一定程度上控制“过拟合”"
   ]
  },
  {
   "cell_type": "markdown",
   "metadata": {},
   "source": [
    "![CNN](images/cnn.png)"
   ]
  },
  {
   "cell_type": "markdown",
   "metadata": {},
   "source": [
    "## 程序"
   ]
  },
  {
   "cell_type": "markdown",
   "metadata": {},
   "source": [
    "### 初始化"
   ]
  },
  {
   "cell_type": "code",
   "execution_count": null,
   "metadata": {},
   "outputs": [],
   "source": [
    "import tensorflow as tf\n",
    "import tensorflow.keras as keras\n",
    "\n",
    "mnist = keras.datasets.fashion_mnist\n",
    "(train_images, train_labels), (test_images, test_labels) = mnist.load_data()\n",
    "\n",
    "train_images = train_images / 255.0\n",
    "test_images = test_images / 255.0\n",
    "\n",
    "# 将图形数据的形状由(28,28)转换成(28,28,1)\n",
    "train_images = train_images.reshape(train_images.shape[0],train_images.shape[1],train_images.shape[2],1)\n",
    "test_images = test_images.reshape(test_images.shape[0],test_images.shape[1],test_images.shape[2],1)"
   ]
  },
  {
   "cell_type": "markdown",
   "metadata": {},
   "source": [
    "### 建模与编译"
   ]
  },
  {
   "cell_type": "code",
   "execution_count": null,
   "metadata": {},
   "outputs": [],
   "source": [
    "model = keras.Sequential()\n",
    "\n",
    "# 卷积与池化\n",
    "model.add(keras.layers.Conv2D(32, (3, 3), activation='relu', input_shape=(28,28,1)))\n",
    "model.add(keras.layers.MaxPooling2D(pool_size=(2, 2)))\n",
    "\n",
    "model.add(keras.layers.Flatten())\n",
    "model.add(keras.layers.Dropout(0.25))\n",
    "model.add(keras.layers.Dense(128, activation=tf.nn.relu))\n",
    "model.add(keras.layers.Dropout(0.25))\n",
    "model.add(keras.layers.Dense(10, activation=tf.nn.softmax))\n",
    "\n",
    "model.compile(optimizer='adam',\n",
    "              loss='sparse_categorical_crossentropy',\n",
    "              metrics=['accuracy']\n",
    "              )"
   ]
  },
  {
   "cell_type": "markdown",
   "metadata": {},
   "source": [
    "### 模型摘要"
   ]
  },
  {
   "cell_type": "code",
   "execution_count": null,
   "metadata": {},
   "outputs": [],
   "source": [
    "model.summary()"
   ]
  },
  {
   "cell_type": "markdown",
   "metadata": {},
   "source": [
    "### 模型训练与验证"
   ]
  },
  {
   "cell_type": "code",
   "execution_count": null,
   "metadata": {},
   "outputs": [],
   "source": [
    "model.fit(train_images, train_labels, epochs=10)\n",
    "model.evaluate(test_images, test_labels)"
   ]
  },
  {
   "cell_type": "markdown",
   "metadata": {},
   "source": [
    "### 两层卷积模型"
   ]
  },
  {
   "cell_type": "code",
   "execution_count": null,
   "metadata": {},
   "outputs": [],
   "source": [
    "model = keras.Sequential()\n",
    "\n",
    "# 卷积与池化\n",
    "model.add(keras.layers.Conv2D(64, (3, 3), activation='relu', input_shape=(28,28,1)))\n",
    "model.add(keras.layers.Dropout(0.25))\n",
    "model.add(keras.layers.Conv2D(64, (3, 3), activation='relu'))\n",
    "model.add(keras.layers.MaxPooling2D(pool_size=(2, 2)))\n",
    "\n",
    "model.add(keras.layers.Flatten())\n",
    "model.add(keras.layers.Dropout(0.25))\n",
    "model.add(keras.layers.Dense(128, activation=tf.nn.relu))\n",
    "model.add(keras.layers.Dropout(0.25))\n",
    "model.add(keras.layers.Dense(10, activation=tf.nn.softmax))\n",
    "\n",
    "model.compile(optimizer='adam',\n",
    "              loss='sparse_categorical_crossentropy',\n",
    "              metrics=['accuracy']\n",
    "              )"
   ]
  }
 ],
 "metadata": {
  "kernelspec": {
   "display_name": "Python 3",
   "language": "python",
   "name": "python3"
  },
  "language_info": {
   "codemirror_mode": {
    "name": "ipython",
    "version": 3
   },
   "file_extension": ".py",
   "mimetype": "text/x-python",
   "name": "python",
   "nbconvert_exporter": "python",
   "pygments_lexer": "ipython3",
   "version": "3.7.4"
  }
 },
 "nbformat": 4,
 "nbformat_minor": 4
}
