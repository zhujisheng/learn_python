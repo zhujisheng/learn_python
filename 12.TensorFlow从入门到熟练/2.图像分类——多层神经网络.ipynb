{
 "cells": [
  {
   "cell_type": "markdown",
   "metadata": {},
   "source": [
    "[![Open In Colab](https://colab.research.google.com/assets/colab-badge.svg)](https://colab.research.google.com/github/zhujisheng/learn_python/blob/master/12.TensorFlow从入门到熟练/2.图像分类——多层神经网络.ipynb)\n",
    "\n",
    "[《Python应用实战》视频课程](https://study.163.com/course/courseMain.htm?courseId=1209533804&share=2&shareId=400000000624093)"
   ]
  },
  {
   "cell_type": "markdown",
   "metadata": {},
   "source": [
    "# 图像分类——多层神经网络\n",
    "\n",
    "难度：★★★★☆\n",
    "\n",
    "*判断一张图片中的内容，属于哪个类别的物体。*"
   ]
  },
  {
   "cell_type": "markdown",
   "metadata": {},
   "source": [
    "## Fashion-MNIST"
   ]
  },
  {
   "cell_type": "markdown",
   "metadata": {},
   "source": [
    "### 数据内容\n",
    "\n",
    "![Fashion-MNIST](images/fashion-mnist-sprite.png)\n",
    "\n",
    "- 70000张图片与标记\n",
    "    - 60000张属于训练集\n",
    "    - 10000张属于测试集\n",
    "- 每张图片大小为28*28，256灰度\n",
    "- 图片标记\n",
    "\n",
    "  |标记|描述|\n",
    "  |:------:|:------:|\n",
    "  |0|T-shirt/top|\n",
    "  |1|Trouser|\n",
    "  |2|Pullover|\n",
    "  |3|Dress|\n",
    "  |4|Coat|\n",
    "  |5|Sandal|\n",
    "  |6|Shirt|\n",
    "  |7|Sneaker|\n",
    "  |8|Bag|\n",
    "  |9|Ankle boot|\n"
   ]
  },
  {
   "cell_type": "markdown",
   "metadata": {},
   "source": [
    "### 加载数据"
   ]
  },
  {
   "cell_type": "code",
   "execution_count": null,
   "metadata": {},
   "outputs": [],
   "source": [
    "import tensorflow as tf\n",
    "import tensorflow.keras as keras\n",
    "\n",
    "mnist = keras.datasets.fashion_mnist\n",
    "(train_images, train_labels), (test_images, test_labels) = mnist.load_data()"
   ]
  },
  {
   "cell_type": "code",
   "execution_count": null,
   "metadata": {},
   "outputs": [],
   "source": [
    "# 查看training_images和training_labels的形状\n",
    "print(train_images.shape)\n",
    "print(train_labels.shape)"
   ]
  },
  {
   "cell_type": "code",
   "execution_count": null,
   "metadata": {},
   "outputs": [],
   "source": [
    "# 训练集中第一张图片的数据\n",
    "train_images[0]"
   ]
  },
  {
   "cell_type": "code",
   "execution_count": null,
   "metadata": {},
   "outputs": [],
   "source": [
    "# 训练集中第一张图片\n",
    "import matplotlib.pyplot as plt\n",
    "plt.figure()\n",
    "plt.imshow(train_images[0])\n",
    "plt.colorbar()\n",
    "plt.show()"
   ]
  },
  {
   "cell_type": "code",
   "execution_count": null,
   "metadata": {},
   "outputs": [],
   "source": [
    "# 训练集中第一张图片的label\n",
    "train_labels[0]"
   ]
  },
  {
   "cell_type": "markdown",
   "metadata": {},
   "source": [
    "### 数据预处理"
   ]
  },
  {
   "cell_type": "code",
   "execution_count": null,
   "metadata": {},
   "outputs": [],
   "source": [
    "train_images = train_images / 255.0\n",
    "\n",
    "test_images = test_images / 255.0"
   ]
  },
  {
   "cell_type": "markdown",
   "metadata": {},
   "source": [
    "## 神经网络的建模、编译与训练"
   ]
  },
  {
   "cell_type": "markdown",
   "metadata": {},
   "source": [
    "#### 建模"
   ]
  },
  {
   "cell_type": "markdown",
   "metadata": {},
   "source": [
    "![分类神经网络](images/category_nn.png)"
   ]
  },
  {
   "cell_type": "code",
   "execution_count": null,
   "metadata": {},
   "outputs": [],
   "source": [
    "model = keras.Sequential()\n",
    "model.add(keras.layers.Flatten(input_shape=(28, 28)))\n",
    "model.add(keras.layers.Dense(128, activation='relu'))\n",
    "model.add(keras.layers.Dense(10, activation='softmax'))"
   ]
  },
  {
   "cell_type": "markdown",
   "metadata": {},
   "source": [
    "  + relu\n",
    "\n",
    "    Rectified Linear Unit, 整流线性单位函数\n",
    "        \n",
    "    $f(x)=max(0,x)$\n",
    "    \n",
    "  + softmax\n",
    "  \n",
    "    归一化指数函数，调整数组中每个元素的值，使每一个元素的范围都在(0,1)之间，并且所有元素的和为1\n",
    "    \n",
    "    $f(x)_{i} = \\frac{e^{x_{i}}}{\\sum_{j} e^{x_{j}}}$\n"
   ]
  },
  {
   "cell_type": "markdown",
   "metadata": {},
   "source": [
    "#### 模型编译"
   ]
  },
  {
   "cell_type": "code",
   "execution_count": null,
   "metadata": {},
   "outputs": [],
   "source": [
    "model.compile(loss='sparse_categorical_crossentropy',\n",
    "              optimizer='adam',\n",
    "              #metrics=['accuracy']\n",
    "              )"
   ]
  },
  {
   "cell_type": "markdown",
   "metadata": {},
   "source": [
    "  + sparse_categorical_crossentropy\n",
    "\n",
    "    categorical cross entropy, 多分类交叉熵，计算两个概率分布之间的距离\n",
    "    \n",
    "    sparse，表示训练集中结果数据由单个整数表示（属于第几类），而不是概率数组\n",
    "    \n",
    "    $CE = -\\sum_{i}y_{i} log (\\widehat{y}_{i})$\n",
    "\n",
    "  + adam\n",
    "\n",
    "    Adaptive Moment Estimation, 一种梯度下降\n",
    "    "
   ]
  },
  {
   "cell_type": "markdown",
   "metadata": {},
   "source": [
    "#### 模型训练"
   ]
  },
  {
   "cell_type": "code",
   "execution_count": null,
   "metadata": {},
   "outputs": [],
   "source": [
    "model.fit(train_images, train_labels, epochs=10)"
   ]
  },
  {
   "cell_type": "markdown",
   "metadata": {},
   "source": [
    "#### 模型评估"
   ]
  },
  {
   "cell_type": "code",
   "execution_count": null,
   "metadata": {},
   "outputs": [],
   "source": [
    "# 使用验证集进行评估\n",
    "model.evaluate(test_images, test_labels)"
   ]
  },
  {
   "cell_type": "code",
   "execution_count": null,
   "metadata": {},
   "outputs": [],
   "source": [
    "# 准确率\n",
    "predictions = model.predict(test_images)\n",
    "i=0\n",
    "n=0\n",
    "for p in predictions:\n",
    "    if p.argmax()==test_labels[i]:\n",
    "        n += 1\n",
    "    i += 1\n",
    "print(n/i)"
   ]
  },
  {
   "cell_type": "markdown",
   "metadata": {},
   "source": [
    "## 模型摘要"
   ]
  },
  {
   "cell_type": "markdown",
   "metadata": {},
   "source": [
    "![分类神经网络](images/category_nn.png)"
   ]
  },
  {
   "cell_type": "code",
   "execution_count": null,
   "metadata": {},
   "outputs": [],
   "source": [
    "model.summary()"
   ]
  },
  {
   "cell_type": "markdown",
   "metadata": {},
   "source": [
    "- 第一层\n",
    "\n",
    "  将28*28的矩阵，转化为784长度的一维数组，无参数\n",
    "  \n",
    "- 第二层\n",
    "\n",
    "  每一个神经元有784个输入，需要784个权重（w），加上一个偏移量（b），总共有785个参数\n",
    "  785*128 = 100480\n",
    "  \n",
    "- 第三层\n",
    "\n",
    "  每一个神经元有128个输入，需要128个权重（w），加上一个偏移量（b），总共有129个参数\n",
    "  \n",
    "  129*10 = 1290\n",
    "  \n",
    "总计：100480+1290=101770个参数"
   ]
  }
 ],
 "metadata": {
  "kernelspec": {
   "display_name": "Python 3",
   "language": "python",
   "name": "python3"
  },
  "language_info": {
   "codemirror_mode": {
    "name": "ipython",
    "version": 3
   },
   "file_extension": ".py",
   "mimetype": "text/x-python",
   "name": "python",
   "nbconvert_exporter": "python",
   "pygments_lexer": "ipython3",
   "version": "3.7.4"
  }
 },
 "nbformat": 4,
 "nbformat_minor": 4
}
