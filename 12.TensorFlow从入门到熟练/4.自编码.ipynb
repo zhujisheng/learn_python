{
 "cells": [
  {
   "cell_type": "markdown",
   "metadata": {},
   "source": [
    "[![Open In Colab](https://colab.research.google.com/assets/colab-badge.svg)](https://colab.research.google.com/github/zhujisheng/learn_python/blob/master/12.TensorFlow从入门到熟练/4.自编码.ipynb)\n",
    "\n",
    "[《Python应用实战》视频课程](https://study.163.com/course/courseMain.htm?courseId=1209533804&share=2&shareId=400000000624093)"
   ]
  },
  {
   "cell_type": "markdown",
   "metadata": {},
   "source": [
    "# 自编码\n",
    "\n",
    "难度：★★★★☆"
   ]
  },
  {
   "cell_type": "markdown",
   "metadata": {},
   "source": [
    "## 什么是自编码（autoencode）\n",
    "\n",
    "*自编码是一种非监督学习方式，通过对原始数据的观察，自动找到一种有效的数据编码方式。能完成自编码工作的神经网络被称为自编码器（autoencoder）。*"
   ]
  },
  {
   "cell_type": "markdown",
   "metadata": {},
   "source": [
    "![自编码器](images/autoencoder-net.jpg)\n",
    "\n",
    "- 训练样本的输出=输入\n",
    "\n",
    "  训练完成后，中间层的输出是输入数据的有效压缩方式\n",
    "  \n",
    "  ![autoencode](images/autoencoder.png)\n",
    "\n",
    "- 训练样本的输入增加噪声，输出无噪声\n",
    "\n",
    "  训练完成后，神经网络能有效去除噪声信号"
   ]
  },
  {
   "cell_type": "markdown",
   "metadata": {},
   "source": [
    "## fasion-mnist图片的自编码"
   ]
  },
  {
   "cell_type": "markdown",
   "metadata": {},
   "source": [
    "#### 初始化"
   ]
  },
  {
   "cell_type": "code",
   "execution_count": null,
   "metadata": {},
   "outputs": [],
   "source": [
    "import tensorflow as tf\n",
    "import tensorflow.keras as keras\n",
    "\n",
    "mnist = keras.datasets.fashion_mnist\n",
    "(train_images, train_labels), (test_images, test_labels) = mnist.load_data()\n",
    "\n",
    "train_images = train_images / 255.0\n",
    "test_images = test_images / 255.0"
   ]
  },
  {
   "cell_type": "markdown",
   "metadata": {},
   "source": [
    "#### 建模"
   ]
  },
  {
   "cell_type": "code",
   "execution_count": null,
   "metadata": {},
   "outputs": [],
   "source": [
    "model = keras.Sequential()\n",
    "\n",
    "model.add(keras.layers.Flatten(input_shape=(28,28)))\n",
    "model.add(keras.layers.Dense(32, activation=tf.nn.relu))\n",
    "model.add(keras.layers.Dense(28*28, activation=tf.nn.sigmoid))\n",
    "model.add(keras.layers.Reshape((28,28)))\n",
    "\n",
    "model.compile(optimizer='adam',\n",
    "              loss='mse',\n",
    "              )"
   ]
  },
  {
   "cell_type": "markdown",
   "metadata": {},
   "source": [
    "- sigmoid\n",
    "\n",
    "  $S(x) = \\frac{1}{1 + e^{-x}}$\n",
    "  \n",
    "  ![sigmoid](images/sigmoid.png)"
   ]
  },
  {
   "cell_type": "markdown",
   "metadata": {},
   "source": [
    "#### 训练"
   ]
  },
  {
   "cell_type": "code",
   "execution_count": null,
   "metadata": {},
   "outputs": [],
   "source": [
    "model.fit(train_images, train_images, epochs=10)"
   ]
  },
  {
   "cell_type": "markdown",
   "metadata": {},
   "source": [
    "#### 查看效果"
   ]
  },
  {
   "cell_type": "code",
   "execution_count": null,
   "metadata": {},
   "outputs": [],
   "source": [
    "# 计算验证集中图片的编码\n",
    "encoded_data = model.layers[1](model.layers[0](test_images))\n",
    "\n",
    "encoded_data.shape"
   ]
  },
  {
   "cell_type": "code",
   "execution_count": null,
   "metadata": {},
   "outputs": [],
   "source": [
    "# 由编码数据计算原始图片\n",
    "decoded_images = model.layers[-1](model.layers[-2](encoded_data))"
   ]
  },
  {
   "cell_type": "code",
   "execution_count": null,
   "metadata": {},
   "outputs": [],
   "source": [
    "# 对比原始图片vs编码解码后的图片\n",
    "\n",
    "i = 0\n",
    "print(\"编码数据：\\n\", encoded_data[i].numpy())\n",
    "\n",
    "import matplotlib.pyplot as plt\n",
    "# 显示图形\n",
    "ax1 = plt.subplot(1, 2, 1)\n",
    "ax2 = plt.subplot(1, 2, 2)\n",
    "ax1.axis('off')\n",
    "ax2.axis('off')\n",
    "\n",
    "ax1.imshow(test_images[i])\n",
    "ax2.imshow(decoded_images[i])\n",
    "\n"
   ]
  }
 ],
 "metadata": {
  "kernelspec": {
   "display_name": "Python 3",
   "language": "python",
   "name": "python3"
  },
  "language_info": {
   "codemirror_mode": {
    "name": "ipython",
    "version": 3
   },
   "file_extension": ".py",
   "mimetype": "text/x-python",
   "name": "python",
   "nbconvert_exporter": "python",
   "pygments_lexer": "ipython3",
   "version": "3.7.4"
  }
 },
 "nbformat": 4,
 "nbformat_minor": 4
}
