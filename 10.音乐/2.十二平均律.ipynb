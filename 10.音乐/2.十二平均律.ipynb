{
 "cells": [
  {
   "cell_type": "markdown",
   "metadata": {},
   "source": [
    "[![Open In Colab](https://colab.research.google.com/assets/colab-badge.svg)](https://colab.research.google.com/github/zhujisheng/learn_python/blob/master/10.音乐/2.十二平均律.ipynb)\n",
    "\n",
    "[《Python应用实战》视频课程](https://study.163.com/course/courseMain.htm?courseId=1209533804&share=2&shareId=400000000624093)"
   ]
  },
  {
   "cell_type": "markdown",
   "metadata": {},
   "source": [
    "# 十二平均律\n",
    "\n",
    "难度：★★★☆☆"
   ]
  },
  {
   "cell_type": "markdown",
   "metadata": {},
   "source": [
    "## 本视频中用到的音乐样例"
   ]
  },
  {
   "cell_type": "code",
   "execution_count": null,
   "metadata": {},
   "outputs": [],
   "source": [
    "import os, urllib\n",
    "filenames = ['audio/simple_piano.wav']\n",
    "url = \"https://github.com/zhujisheng/learn_python/raw/master/10.%E9%9F%B3%E4%B9%90/\"\n",
    "\n",
    "if not os.path.exists('audio'):\n",
    "    os.mkdir('audio')\n",
    "\n",
    "for f in filenames:\n",
    "    urllib.request.urlretrieve(url+f, filename=f)"
   ]
  },
  {
   "cell_type": "markdown",
   "metadata": {},
   "source": [
    "## 定律方法\n",
    "\n",
    "在频率为f和2f的音之间，划分12份，每个音的频率是:\n",
    "\n",
    "$f_i = 2^{i/12}\\times{f}$\n",
    "\n",
    "这种分割声音频率的方式，称为十二平均律。\n",
    "\n",
    "在十二平均律中：\n",
    "\n",
    "相邻的两个音的频率倍数关系为：$f_{n+1} = \\sqrt[12]{2}\\times{f_n}$，它们相差一个半音。\n",
    "\n",
    "如果两个音的频率是两倍关系，它们相差一个八度。\n",
    "\n",
    "![十二平均律](images/twelvetone.png)"
   ]
  },
  {
   "cell_type": "markdown",
   "metadata": {},
   "source": [
    "#### 生成频率为440hz与880hz的声音"
   ]
  },
  {
   "cell_type": "code",
   "execution_count": null,
   "metadata": {},
   "outputs": [],
   "source": [
    "import numpy\n",
    "import librosa\n",
    "import librosa.display\n",
    "import IPython.display as ipd\n",
    "import matplotlib.pyplot as plt\n",
    "\n",
    "T = 1.0 # seconds\n",
    "sr = 22050\n",
    "\n",
    "A4 = librosa.tone(440,sr=sr,duration=T)\n",
    "A5 = librosa.tone(880,sr=sr,duration=T)\n",
    "\n",
    "# 播放A4，A5，以及A4与A5的混合音\n",
    "audio = numpy.concatenate((A4,A5,(A4+A5)/2))\n",
    "ipd.Audio(audio, rate=sr)"
   ]
  },
  {
   "cell_type": "markdown",
   "metadata": {},
   "source": [
    "#### 按十二平均律生成的440-880hz之间的音"
   ]
  },
  {
   "cell_type": "code",
   "execution_count": null,
   "metadata": {},
   "outputs": [],
   "source": [
    "audio = A4\n",
    "\n",
    "for i in range(12):\n",
    "    f = 440.0*pow(2,(i+1)/12)\n",
    "    a = librosa.tone(f,sr=sr,duration=T)\n",
    "    audio = numpy.concatenate((audio,a))\n",
    "\n",
    "ipd.Audio(audio, rate=sr)"
   ]
  },
  {
   "cell_type": "markdown",
   "metadata": {},
   "source": [
    "## 钢琴键盘\n",
    "\n",
    "![钢琴键盘](images/piano.JPG)\n",
    "\n",
    "|键序|科学音调记号|频率 (赫兹)|\n",
    "|----------|----------|----------|\n",
    "|61(白)|A5|880.000|\n",
    "|60(黑)|G♯5／A♭5|830.609|\n",
    "|59(白)|G5|783.991|\n",
    "|58(黑)|F♯5／G♭5|739.989|\n",
    "|57(白)|F5|698.456|\n",
    "|56(白)|E5|659.255|\n",
    "|55(黑)|D♯5／E♭5|622.254|\n",
    "|54(白)|D5|587.330|\n",
    "|53(黑)|C♯5／D♭5|554.365|\n",
    "|52(白)|C5|523.251|\n",
    "|51(白)|B4|493.883|\n",
    "|50(黑)|A♯4／B♭4|466.164|\n",
    "|49(白)|A4 A440|440.000|\n",
    "|48(黑)|G♯4／A♭4|415.305|\n",
    "|47(白)|G4|391.995|\n",
    "|46(黑)|F♯4／G♭4|369.994|\n",
    "|45(白)|F4|349.228|\n",
    "|44(白)|E4|329.628|\n",
    "|43(黑)|D♯4／E♭4|311.127|\n",
    "|42(白)|D4|293.665|\n",
    "|41(黑)|C♯4／D♭4|277.183|\n",
    "|40(白)|C4 中央C|261.626|\n",
    "|39(白)|B3|246.942|\n",
    "|38(黑)|A♯3／B♭3|233.082|\n",
    "|37(白)|A3|220.000|\n"
   ]
  },
  {
   "cell_type": "markdown",
   "metadata": {},
   "source": [
    "#### 记号与频率之间的转化"
   ]
  },
  {
   "cell_type": "code",
   "execution_count": null,
   "metadata": {},
   "outputs": [],
   "source": [
    "# A4\n",
    "librosa.hz_to_note(440)"
   ]
  },
  {
   "cell_type": "code",
   "execution_count": null,
   "metadata": {},
   "outputs": [],
   "source": [
    "# C4\n",
    "librosa.note_to_hz('C4')"
   ]
  },
  {
   "cell_type": "markdown",
   "metadata": {},
   "source": [
    "#### 唱名"
   ]
  },
  {
   "cell_type": "code",
   "execution_count": null,
   "metadata": {},
   "outputs": [],
   "source": [
    "DO = librosa.tone(librosa.note_to_hz('C4'),sr=sr,duration=1)\n",
    "RI = librosa.tone(librosa.note_to_hz('D4'),sr=sr,duration=1)\n",
    "MI = librosa.tone(librosa.note_to_hz('E4'),sr=sr,duration=1)\n",
    "FA = librosa.tone(librosa.note_to_hz('F4'),sr=sr,duration=1)\n",
    "SO = librosa.tone(librosa.note_to_hz('G4'),sr=sr,duration=1)\n",
    "LA = librosa.tone(librosa.note_to_hz('A4'),sr=sr,duration=1)\n",
    "XI = librosa.tone(librosa.note_to_hz('B4'),sr=sr,duration=1)\n",
    "DO1 = librosa.tone(librosa.note_to_hz('C5'),sr=sr,duration=1)\n",
    "\n",
    "audio = numpy.concatenate((DO,RI,MI,FA,SO,LA,XI,DO1))\n",
    "ipd.Audio(audio, rate=sr)"
   ]
  },
  {
   "cell_type": "markdown",
   "metadata": {},
   "source": [
    "## chroma时频谱图"
   ]
  },
  {
   "cell_type": "code",
   "execution_count": null,
   "metadata": {},
   "outputs": [],
   "source": [
    "hop_length = 512\n",
    "n_fft = 2048\n",
    "\n",
    "chromagram = librosa.feature.chroma_stft(audio, sr=sr, hop_length=hop_length, n_fft=n_fft)\n",
    "plt.figure(figsize=(15, 5))\n",
    "librosa.display.specshow(chromagram, x_axis='time', y_axis='chroma', sr=sr, hop_length=hop_length, cmap='coolwarm')"
   ]
  },
  {
   "cell_type": "markdown",
   "metadata": {},
   "source": [
    "加载钢琴弹奏声音"
   ]
  },
  {
   "cell_type": "code",
   "execution_count": null,
   "metadata": {},
   "outputs": [],
   "source": [
    "x, sr = librosa.load('audio/simple_piano.wav')\n",
    "ipd.Audio(x, rate=sr)"
   ]
  },
  {
   "cell_type": "code",
   "execution_count": null,
   "metadata": {},
   "outputs": [],
   "source": [
    "chromagram = librosa.feature.chroma_stft(x, sr=sr, hop_length=hop_length, n_fft=n_fft)\n",
    "plt.figure(figsize=(15, 5))\n",
    "librosa.display.specshow(chromagram, x_axis='time', y_axis='chroma', sr=sr, hop_length=hop_length, cmap='coolwarm')"
   ]
  },
  {
   "cell_type": "markdown",
   "metadata": {},
   "source": [
    "## 声音单调性"
   ]
  },
  {
   "cell_type": "markdown",
   "metadata": {},
   "source": [
    "- 强度无时间变化"
   ]
  },
  {
   "cell_type": "code",
   "execution_count": null,
   "metadata": {},
   "outputs": [],
   "source": [
    "plt.figure(figsize=(15, 5))\n",
    "librosa.display.waveplot(audio, sr)\n",
    "plt.show()"
   ]
  },
  {
   "cell_type": "markdown",
   "metadata": {},
   "source": [
    "- 在任何时间点上频率单一"
   ]
  },
  {
   "cell_type": "code",
   "execution_count": null,
   "metadata": {},
   "outputs": [],
   "source": [
    "# 时频谱图\n",
    "hop_length = 512\n",
    "n_fft = 2048\n",
    "X = librosa.stft(audio, n_fft=n_fft, hop_length=hop_length)\n",
    "\n",
    "S = librosa.amplitude_to_db(abs(X))\n",
    "\n",
    "plt.figure(figsize=(15, 5))\n",
    "librosa.display.specshow(S, sr=sr, hop_length=hop_length, x_axis='time', y_axis='log')\n",
    "plt.colorbar(format='%+2.0f dB')\n",
    "plt.show()"
   ]
  },
  {
   "cell_type": "markdown",
   "metadata": {},
   "source": [
    "参考：[纯率](https://baike.baidu.com/item/纯律/659996)"
   ]
  }
 ],
 "metadata": {
  "kernelspec": {
   "display_name": "Python 3",
   "language": "python",
   "name": "python3"
  },
  "language_info": {
   "codemirror_mode": {
    "name": "ipython",
    "version": 3
   },
   "file_extension": ".py",
   "mimetype": "text/x-python",
   "name": "python",
   "nbconvert_exporter": "python",
   "pygments_lexer": "ipython3",
   "version": "3.7.4"
  }
 },
 "nbformat": 4,
 "nbformat_minor": 4
}
