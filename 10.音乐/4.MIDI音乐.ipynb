{
 "cells": [
  {
   "cell_type": "markdown",
   "metadata": {},
   "source": [
    "[![Open In Colab](https://colab.research.google.com/assets/colab-badge.svg)](https://colab.research.google.com/github/zhujisheng/learn_python/blob/master/10.音乐/4.MIDI音乐.ipynb)\n",
    "\n",
    "[《Python应用实战》视频课程](https://study.163.com/course/courseMain.htm?courseId=1209533804&share=2&shareId=400000000624093)"
   ]
  },
  {
   "cell_type": "markdown",
   "metadata": {},
   "source": [
    "# MIDI音乐\n",
    "\n",
    "难度：★★★☆☆"
   ]
  },
  {
   "cell_type": "markdown",
   "metadata": {},
   "source": [
    "- MIDI（Musical Instrument Digital Interface）是一个通讯协议\n",
    "- MIDI传输每个音符的音高、强度等信息\n",
    "- 电子乐器发出MIDI消息，播放器播放对应声音\n",
    "- MIDI格式也可以保存为文件"
   ]
  },
  {
   "cell_type": "markdown",
   "metadata": {},
   "source": [
    "## mido库\n",
    "\n",
    "[mido库](https://mido.readthedocs.io/en/latest/index.html)用于处理MIDI消息，支持MIDO消息的传输"
   ]
  },
  {
   "cell_type": "markdown",
   "metadata": {},
   "source": [
    "#### 安装\n",
    "\n",
    "`pip install mido`"
   ]
  },
  {
   "cell_type": "markdown",
   "metadata": {},
   "source": [
    "#### Ports\n",
    "\n",
    "- 在mido库中，port指发送和接收MIDI消息的实体，可以是MIDI文件、设备、网络接口...\n",
    "- 要使用port，必须安装一个Backend\n",
    "- 推荐使用的Backend是[RtMidi](https://pypi.org/project/python-rtmidi/)\n",
    "\n",
    "  `pip install python-rtmidi`\n"
   ]
  },
  {
   "cell_type": "markdown",
   "metadata": {},
   "source": [
    "## MIDI消息与播放"
   ]
  },
  {
   "cell_type": "markdown",
   "metadata": {},
   "source": [
    "打开缺省的播放设备"
   ]
  },
  {
   "cell_type": "code",
   "execution_count": null,
   "metadata": {},
   "outputs": [],
   "source": [
    "import time\n",
    "import librosa\n",
    "import mido\n",
    "\n",
    "output = mido.open_output()"
   ]
  },
  {
   "cell_type": "markdown",
   "metadata": {},
   "source": [
    "播放音符A4"
   ]
  },
  {
   "cell_type": "code",
   "execution_count": null,
   "metadata": {},
   "outputs": [],
   "source": [
    "# midi_note = 69\n",
    "midi_note = librosa.note_to_midi('A4')\n",
    "m = mido.Message('note_on', note=midi_note, velocity=100)\n",
    "output.send(m)\n",
    "\n",
    "time.sleep(1)\n",
    "\n",
    "# 停止音符A4\n",
    "m = mido.Message('note_off', note=midi_note, velocity=100)\n",
    "output.send(m)"
   ]
  },
  {
   "cell_type": "markdown",
   "metadata": {},
   "source": [
    "## 制作一段音乐"
   ]
  },
  {
   "cell_type": "code",
   "execution_count": null,
   "metadata": {},
   "outputs": [],
   "source": [
    "# 音高、力度、时长(秒)\n",
    "messages=[('f4', 100, 0.25),\n",
    "          ('g4', 64, 0.25),\n",
    "          ('a4', 64, 0.5),\n",
    "          ('g4', 64, 0.5),\n",
    "          ('g4', 64, 0.5),\n",
    "          ('f4', 100, 0.5),\n",
    "          ('e4', 64, 0.5),\n",
    "          ('f4', 64, 1.5),\n",
    "         ]"
   ]
  },
  {
   "cell_type": "code",
   "execution_count": null,
   "metadata": {},
   "outputs": [],
   "source": [
    "# 播放\n",
    "for message in messages:\n",
    "    midi_note = librosa.note_to_midi(message[0])\n",
    "    m = mido.Message('note_on', note=midi_note, velocity=message[1])\n",
    "    output.send(m)\n",
    "    time.sleep(message[2])\n",
    "    m = mido.Message('note_off', note=midi_note, velocity=message[1])\n",
    "    output.send(m)"
   ]
  },
  {
   "cell_type": "markdown",
   "metadata": {},
   "source": [
    "## 更改播放乐器"
   ]
  },
  {
   "cell_type": "code",
   "execution_count": null,
   "metadata": {},
   "outputs": [],
   "source": [
    "# 1 钢琴\n",
    "# 26吉他\n",
    "# 41 小提琴\n",
    "m=mido.Message('program_change', program=41)\n",
    "output.send(m)"
   ]
  },
  {
   "cell_type": "markdown",
   "metadata": {},
   "source": [
    "## 写入MIDI文件"
   ]
  },
  {
   "cell_type": "code",
   "execution_count": null,
   "metadata": {},
   "outputs": [],
   "source": [
    "from mido import Message, MidiFile, MidiTrack\n",
    "\n",
    "mid = MidiFile()\n",
    "track = MidiTrack()\n",
    "mid.tracks.append(track)\n",
    "\n",
    "# 更改成小提琴声音\n",
    "m=mido.Message('program_change', program=41)\n",
    "track.append(m)\n",
    "\n",
    "for message in messages:\n",
    "    midi_note = librosa.note_to_midi(message[0])\n",
    "    m = Message('note_on', note=midi_note, velocity=message[1], time=0)\n",
    "    track.append(m)\n",
    "    ticks = mido.second2tick(message[2], mid.ticks_per_beat, 500000)\n",
    "    m = Message('note_off', note=midi_note, velocity=message[1], time=int(ticks))\n",
    "    track.append(m)\n",
    "\n",
    "mid.save('audio/mysong.mid')"
   ]
  },
  {
   "cell_type": "markdown",
   "metadata": {},
   "source": [
    "## 读入与播放MIDI文件"
   ]
  },
  {
   "cell_type": "markdown",
   "metadata": {},
   "source": [
    "- 自己控制时间"
   ]
  },
  {
   "cell_type": "code",
   "execution_count": null,
   "metadata": {},
   "outputs": [],
   "source": [
    "for msg in MidiFile('audio/mysong.mid'):\n",
    "    print(msg)\n",
    "    time.sleep(msg.time)\n",
    "    output.send(msg)"
   ]
  },
  {
   "cell_type": "markdown",
   "metadata": {},
   "source": [
    "- 使用play函数控制时间"
   ]
  },
  {
   "cell_type": "code",
   "execution_count": null,
   "metadata": {},
   "outputs": [],
   "source": [
    "for message in MidiFile('audio/mysong.mid').play():\n",
    "    print(message)\n",
    "    output.send(message)"
   ]
  },
  {
   "cell_type": "code",
   "execution_count": null,
   "metadata": {},
   "outputs": [],
   "source": [
    "for message in MidiFile('audio/piano.mid').play():\n",
    "    print(message)\n",
    "    output.send(message)"
   ]
  },
  {
   "cell_type": "code",
   "execution_count": null,
   "metadata": {},
   "outputs": [],
   "source": []
  }
 ],
 "metadata": {
  "kernelspec": {
   "display_name": "Python 3",
   "language": "python",
   "name": "python3"
  },
  "language_info": {
   "codemirror_mode": {
    "name": "ipython",
    "version": 3
   },
   "file_extension": ".py",
   "mimetype": "text/x-python",
   "name": "python",
   "nbconvert_exporter": "python",
   "pygments_lexer": "ipython3",
   "version": "3.7.4"
  }
 },
 "nbformat": 4,
 "nbformat_minor": 4
}
