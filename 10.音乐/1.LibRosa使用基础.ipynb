{
 "cells": [
  {
   "cell_type": "markdown",
   "metadata": {},
   "source": [
    "[![Open In Colab](https://colab.research.google.com/assets/colab-badge.svg)](https://colab.research.google.com/github/zhujisheng/learn_python/blob/master/10.音乐/1.LibRosa使用基础.ipynb)\n",
    "\n",
    "[《Python应用实战》视频课程](https://study.163.com/course/courseMain.htm?courseId=1209533804&share=2&shareId=400000000624093)"
   ]
  },
  {
   "cell_type": "markdown",
   "metadata": {},
   "source": [
    "# LibRosa使用基础\n",
    "\n",
    "难度：★★★★☆"
   ]
  },
  {
   "cell_type": "markdown",
   "metadata": {},
   "source": [
    "## 环境准备"
   ]
  },
  {
   "cell_type": "markdown",
   "metadata": {},
   "source": [
    "#### [LibROSA库](https://librosa.github.io/librosa/index.html)\n",
    "\n",
    "LibROSA是一个音乐与音频处理的python库。\n",
    "\n",
    "`pip install librosa`"
   ]
  },
  {
   "cell_type": "markdown",
   "metadata": {},
   "source": [
    "#### FFMPEG\n",
    "\n",
    "如果你需要读除了wave格式外的其它类型音频文件，需要[安装ffmpeg](https://github.com/zhujisheng/learn_python/blob/master/09.%E5%A3%B0%E9%9F%B3%E5%A4%84%E7%90%86/6.%E5%A3%B0%E9%9F%B3%E7%BC%96%E8%BE%91.md#pydub%E5%BA%93)。"
   ]
  },
  {
   "cell_type": "markdown",
   "metadata": {},
   "source": [
    "#### Jupyter Notebook\n",
    "\n",
    "- 本机运行\n",
    "\n",
    "  Python编程环境之《[浏览器中的Python——Jupyter](../00.Python编程环境/4.浏览器中的Python——Jupyter.md)》\n",
    "\n",
    "- 云端运行\n",
    "\n",
    "  科学计算与作图之《[基础环境准备](../08.科学计算与作图/1.基础环境准备.ipynb)》"
   ]
  },
  {
   "cell_type": "markdown",
   "metadata": {},
   "source": [
    "#### 下载一些音乐样例"
   ]
  },
  {
   "cell_type": "code",
   "execution_count": null,
   "metadata": {},
   "outputs": [],
   "source": [
    "import os, urllib\n",
    "filenames = ['audio/simple_piano.wav']\n",
    "url = \"https://github.com/zhujisheng/learn_python/raw/master/10.%E9%9F%B3%E4%B9%90/\"\n",
    "\n",
    "if not os.path.exists('audio'):\n",
    "    os.mkdir('audio')\n",
    "\n",
    "for f in filenames:\n",
    "    urllib.request.urlretrieve(url+f, filename=f)"
   ]
  },
  {
   "cell_type": "code",
   "execution_count": null,
   "metadata": {},
   "outputs": [],
   "source": [
    "ls audio"
   ]
  },
  {
   "cell_type": "markdown",
   "metadata": {},
   "source": [
    "#### 包含头文件"
   ]
  },
  {
   "cell_type": "code",
   "execution_count": null,
   "metadata": {},
   "outputs": [],
   "source": [
    "import librosa\n",
    "import librosa.display\n",
    "import matplotlib.pyplot as plt\n",
    "import IPython.display as ipd"
   ]
  },
  {
   "cell_type": "markdown",
   "metadata": {},
   "source": [
    "## 加载声音文件并播放"
   ]
  },
  {
   "cell_type": "code",
   "execution_count": null,
   "metadata": {},
   "outputs": [],
   "source": [
    "x, sr = librosa.load('audio/simple_piano.wav')\n",
    "\n",
    "ipd.Audio(x, rate=sr)"
   ]
  },
  {
   "cell_type": "markdown",
   "metadata": {},
   "source": [
    "## 生成单一频率的声音"
   ]
  },
  {
   "cell_type": "code",
   "execution_count": null,
   "metadata": {},
   "outputs": [],
   "source": [
    "# 声音的时长、频率和采样率\n",
    "T = 2.0\n",
    "frequency = 440.0\n",
    "sr = 22050"
   ]
  },
  {
   "cell_type": "code",
   "execution_count": null,
   "metadata": {},
   "outputs": [],
   "source": [
    "# 使用正弦函数生成\n",
    "import numpy\n",
    "t = numpy.linspace(0, T, int(T*sr), endpoint=False)\n",
    "y = numpy.sin(2*numpy.pi*frequency*t)\n",
    "\n",
    "ipd.Audio(y, rate=sr)"
   ]
  },
  {
   "cell_type": "code",
   "execution_count": null,
   "metadata": {},
   "outputs": [],
   "source": [
    "# 使用librosa库中的tone函数完成\n",
    "y=librosa.tone(frequency,sr=sr,duration=2)\n",
    "ipd.Audio(y, rate=sr)"
   ]
  },
  {
   "cell_type": "markdown",
   "metadata": {},
   "source": [
    "## 生成其它声音"
   ]
  },
  {
   "cell_type": "code",
   "execution_count": null,
   "metadata": {},
   "outputs": [],
   "source": [
    "z=librosa.clicks([0.5,1.5,2.5], sr=22050, click_freq=880.0)\n",
    "ipd.Audio(z, rate=22050)"
   ]
  },
  {
   "cell_type": "markdown",
   "metadata": {},
   "source": [
    "## 声音波形图"
   ]
  },
  {
   "cell_type": "code",
   "execution_count": null,
   "metadata": {},
   "outputs": [],
   "source": [
    "plt.figure(figsize=(15, 5))\n",
    "librosa.display.waveplot(x, sr, alpha=0.8)\n",
    "\n",
    "plt.figure(figsize=(15, 5))\n",
    "librosa.display.waveplot(y, sr, alpha=0.8)\n",
    "\n",
    "plt.figure(figsize=(15, 5))\n",
    "librosa.display.waveplot(z, sr, alpha=0.8)\n",
    "\n",
    "plt.show()"
   ]
  },
  {
   "cell_type": "markdown",
   "metadata": {},
   "source": [
    "## 语谱图(Spectrogram)"
   ]
  },
  {
   "cell_type": "markdown",
   "metadata": {},
   "source": [
    "#### 短时傅里叶变换（stft）\n",
    "\n",
    "计算声音在若干个小时间窗口上的频率的分布，时间窗口在时间轴上移动（时间窗口之间可能会有重叠）。\n",
    "\n",
    "- n_fft\n",
    "\n",
    "  时间窗口包含的采样数量\n",
    "  \n",
    "  例如：n_fft=2048，采样率=22050，则每个时间窗口的时长是2048/22050=0.093秒\n",
    "\n",
    "- hop_length\n",
    "\n",
    "  每次时间窗口移动，所跨过的采样数量\n",
    "  \n",
    "  例如：hop_length=512，采样率=22050，则时间窗口每次在时间轴上移动512/22050=0.023秒\n"
   ]
  },
  {
   "cell_type": "code",
   "execution_count": null,
   "metadata": {},
   "outputs": [],
   "source": [
    "hop_length = 512\n",
    "n_fft = 2048\n",
    "X = librosa.stft(x, n_fft=n_fft, hop_length=hop_length)\n",
    "Y = librosa.stft(y, n_fft=n_fft, hop_length=hop_length)\n",
    "Z = librosa.stft(z, n_fft=n_fft, hop_length=hop_length)"
   ]
  },
  {
   "cell_type": "markdown",
   "metadata": {},
   "source": [
    "#### 语谱图"
   ]
  },
  {
   "cell_type": "code",
   "execution_count": null,
   "metadata": {},
   "outputs": [],
   "source": [
    "plt.figure(figsize=(15, 5))\n",
    "librosa.display.specshow(abs(X), sr=sr, hop_length=hop_length, x_axis='time', y_axis='linear')\n",
    "plt.colorbar()"
   ]
  },
  {
   "cell_type": "markdown",
   "metadata": {},
   "source": [
    "#### 分布数值进行对数转换"
   ]
  },
  {
   "cell_type": "code",
   "execution_count": null,
   "metadata": {},
   "outputs": [],
   "source": [
    "Sx = librosa.amplitude_to_db(abs(X))\n",
    "\n",
    "plt.figure(figsize=(15, 5))\n",
    "librosa.display.specshow(Sx, sr=sr, hop_length=hop_length, x_axis='time', y_axis='linear')\n",
    "plt.colorbar(format='%+2.0f dB')"
   ]
  },
  {
   "cell_type": "markdown",
   "metadata": {},
   "source": [
    "#### 某个时间的频率分布"
   ]
  },
  {
   "cell_type": "code",
   "execution_count": null,
   "metadata": {},
   "outputs": [],
   "source": [
    "X.shape"
   ]
  },
  {
   "cell_type": "code",
   "execution_count": null,
   "metadata": {},
   "outputs": [],
   "source": [
    "# 计算在time时的频率分布（秒）\n",
    "time = 1.3\n",
    "\n",
    "# 将time换算成这是第几个小窗口（frame）\n",
    "frame_number = librosa.time_to_frames(time, sr=sr, hop_length=hop_length, n_fft=n_fft)\n",
    "\n",
    "# 频率数组，以及在每个频率上的值\n",
    "frequencys=librosa.fft_frequencies(sr=22050, n_fft=n_fft)\n",
    "value_on_frequency = abs(X[:,frame_number])\n",
    "\n",
    "# 作图\n",
    "plt.figure(figsize=(15, 5))\n",
    "plt.plot(frequencys, value_on_frequency)\n",
    "plt.xlabel('Frequency (Hz)')"
   ]
  },
  {
   "cell_type": "markdown",
   "metadata": {},
   "source": [
    "## 保存音频文件"
   ]
  },
  {
   "cell_type": "code",
   "execution_count": null,
   "metadata": {},
   "outputs": [],
   "source": [
    "librosa.output.write_wav('audio/my_click.wav', z, sr)"
   ]
  },
  {
   "cell_type": "code",
   "execution_count": null,
   "metadata": {},
   "outputs": [],
   "source": []
  }
 ],
 "metadata": {
  "kernelspec": {
   "display_name": "Python 3",
   "language": "python",
   "name": "python3"
  },
  "language_info": {
   "codemirror_mode": {
    "name": "ipython",
    "version": 3
   },
   "file_extension": ".py",
   "mimetype": "text/x-python",
   "name": "python",
   "nbconvert_exporter": "python",
   "pygments_lexer": "ipython3",
   "version": "3.7.4"
  }
 },
 "nbformat": 4,
 "nbformat_minor": 4
}
